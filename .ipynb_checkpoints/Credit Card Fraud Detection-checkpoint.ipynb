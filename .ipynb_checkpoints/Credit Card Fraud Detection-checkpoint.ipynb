{
 "cells": [
  {
   "cell_type": "markdown",
   "metadata": {
    "_cell_guid": "11d9df76-b958-4da3-bfde-f454ae168f12",
    "_uuid": "1b7686d71dd154eea3edcecdb36bbe291d51666f"
   },
   "source": [
    "# Credit Card Fraud Detection\n",
    "\n",
    "***By Joe Corliss***\n",
    "\n",
    "[Data source](https://www.kaggle.com/mlg-ulb/creditcardfraud)"
   ]
  },
  {
   "cell_type": "markdown",
   "metadata": {
    "_cell_guid": "dd46fff8-24fc-4280-a6f3-f9f33360a1c4",
    "_uuid": "3bcf069d0213547a889ad7da72321bda1c8776b7"
   },
   "source": [
    "I'm going to try to keep this kernel short and sweet, just to test out a few models."
   ]
  },
  {
   "cell_type": "markdown",
   "metadata": {
    "_cell_guid": "8ee910c1-6b60-412b-a65d-07bd0179d264",
    "_uuid": "37fbe59853fba403c6077174d85960fff152202d"
   },
   "source": [
    "## Table of Contents"
   ]
  },
  {
   "cell_type": "markdown",
   "metadata": {
    "_cell_guid": "6ec3bcde-7d26-40b8-8cf4-6181e0b7c859",
    "_uuid": "5e290a13426777610ff9acc7dd3fa56bd518b10e"
   },
   "source": [
    "1. [Check the Data](#1)\n",
    "2. [Pre-processing](#2)\n",
    "3. [Predictive Modeling](#3)\n",
    "    1. [Linear Classification with Stochastic Gradient Descent (SGD)](#3.1)\n",
    "    2. [Random Forest Classifier](#3.2)"
   ]
  },
  {
   "cell_type": "markdown",
   "metadata": {
    "_cell_guid": "637b0320-5b60-48c1-8a30-12877d9d3706",
    "_uuid": "3ac770b4ec327e649c8f6aaebe62e5d9deda3ce1"
   },
   "source": [
    "# EDA\n",
    "<a id='1'></a>"
   ]
  },
  {
   "cell_type": "code",
   "execution_count": 1,
   "metadata": {
    "_cell_guid": "6d9ae327-80a0-477d-9dc7-bef5c7fa2ae4",
    "_uuid": "5df5d6d9eb66c3fe6943f1bed5d01d9096e0939e"
   },
   "outputs": [],
   "source": [
    "import numpy as np\n",
    "import pandas as pd"
   ]
  },
  {
   "cell_type": "code",
   "execution_count": 15,
   "metadata": {},
   "outputs": [],
   "source": [
    "pd.set_option('display.max_colwidth', 1000, 'display.max_rows', None, 'display.max_columns', None)"
   ]
  },
  {
   "cell_type": "markdown",
   "metadata": {
    "_cell_guid": "c46a6889-76ed-4174-b01f-ee57c553a4a6",
    "_uuid": "ba7704d23e6bf26359fc570b250e4e3573a90b01"
   },
   "source": [
    "Read in the data to a pandas dataframe."
   ]
  },
  {
   "cell_type": "code",
   "execution_count": 2,
   "metadata": {
    "_cell_guid": "b2eaac2a-dd66-4487-a7cc-ff8a6f9d895b",
    "_uuid": "1633367750b89e28917f9e740fe55269c0f41daf"
   },
   "outputs": [],
   "source": [
    "df = pd.read_csv('creditcard.csv', low_memory=False)"
   ]
  },
  {
   "cell_type": "markdown",
   "metadata": {
    "_cell_guid": "3b0d2746-1bd2-4121-a70c-14f34aff322b",
    "_uuid": "ba7ed08e89eca5a23f447ce2b6afcaf555751fe7"
   },
   "source": [
    "Check basic metadata."
   ]
  },
  {
   "cell_type": "code",
   "execution_count": 3,
   "metadata": {
    "_cell_guid": "4f1f3529-274f-464b-8693-c5696021bf5b",
    "_uuid": "16fc775a28983a0591370de08bd0941572f675c4",
    "scrolled": true
   },
   "outputs": [
    {
     "name": "stdout",
     "output_type": "stream",
     "text": [
      "<class 'pandas.core.frame.DataFrame'>\n",
      "RangeIndex: 284807 entries, 0 to 284806\n",
      "Data columns (total 31 columns):\n",
      "Time      284807 non-null float64\n",
      "V1        284807 non-null float64\n",
      "V2        284807 non-null float64\n",
      "V3        284807 non-null float64\n",
      "V4        284807 non-null float64\n",
      "V5        284807 non-null float64\n",
      "V6        284807 non-null float64\n",
      "V7        284807 non-null float64\n",
      "V8        284807 non-null float64\n",
      "V9        284807 non-null float64\n",
      "V10       284807 non-null float64\n",
      "V11       284807 non-null float64\n",
      "V12       284807 non-null float64\n",
      "V13       284807 non-null float64\n",
      "V14       284807 non-null float64\n",
      "V15       284807 non-null float64\n",
      "V16       284807 non-null float64\n",
      "V17       284807 non-null float64\n",
      "V18       284807 non-null float64\n",
      "V19       284807 non-null float64\n",
      "V20       284807 non-null float64\n",
      "V21       284807 non-null float64\n",
      "V22       284807 non-null float64\n",
      "V23       284807 non-null float64\n",
      "V24       284807 non-null float64\n",
      "V25       284807 non-null float64\n",
      "V26       284807 non-null float64\n",
      "V27       284807 non-null float64\n",
      "V28       284807 non-null float64\n",
      "Amount    284807 non-null float64\n",
      "Class     284807 non-null int64\n",
      "dtypes: float64(30), int64(1)\n",
      "memory usage: 67.4 MB\n"
     ]
    }
   ],
   "source": [
    "df.info()"
   ]
  },
  {
   "cell_type": "markdown",
   "metadata": {},
   "source": [
    "Are there any incomplete variables?"
   ]
  },
  {
   "cell_type": "code",
   "execution_count": 5,
   "metadata": {},
   "outputs": [],
   "source": [
    "def incomplete_cols(df):\n",
    "    'Returns a list of incomplete columns in df and their completion percentage'\n",
    "    cmp = df.notnull().mean() # Dataset completeness by column\n",
    "    cmp = cmp.loc[cmp<1]\n",
    "    return cmp.apply(lambda val: str(np.round(100*val, decimals=3))+'%')"
   ]
  },
  {
   "cell_type": "code",
   "execution_count": 7,
   "metadata": {},
   "outputs": [
    {
     "data": {
      "text/plain": [
       "Series([], dtype: float64)"
      ]
     },
     "execution_count": 7,
     "metadata": {},
     "output_type": "execute_result"
    }
   ],
   "source": [
    "incomplete_cols(df)"
   ]
  },
  {
   "cell_type": "markdown",
   "metadata": {},
   "source": [
    "All variables have complete data."
   ]
  },
  {
   "cell_type": "markdown",
   "metadata": {},
   "source": [
    "Let's look at some random samples."
   ]
  },
  {
   "cell_type": "code",
   "execution_count": 16,
   "metadata": {
    "_cell_guid": "bc604ca1-88c0-4283-af5d-620fbdb2dff7",
    "_uuid": "7c96bb853ac6ed993aab097b658fac0e75bc61ed"
   },
   "outputs": [
    {
     "data": {
      "text/html": [
       "<div>\n",
       "<style scoped>\n",
       "    .dataframe tbody tr th:only-of-type {\n",
       "        vertical-align: middle;\n",
       "    }\n",
       "\n",
       "    .dataframe tbody tr th {\n",
       "        vertical-align: top;\n",
       "    }\n",
       "\n",
       "    .dataframe thead th {\n",
       "        text-align: right;\n",
       "    }\n",
       "</style>\n",
       "<table border=\"1\" class=\"dataframe\">\n",
       "  <thead>\n",
       "    <tr style=\"text-align: right;\">\n",
       "      <th></th>\n",
       "      <th>Time</th>\n",
       "      <th>V1</th>\n",
       "      <th>V2</th>\n",
       "      <th>V3</th>\n",
       "      <th>V4</th>\n",
       "      <th>V5</th>\n",
       "      <th>V6</th>\n",
       "      <th>V7</th>\n",
       "      <th>V8</th>\n",
       "      <th>V9</th>\n",
       "      <th>V10</th>\n",
       "      <th>V11</th>\n",
       "      <th>V12</th>\n",
       "      <th>V13</th>\n",
       "      <th>V14</th>\n",
       "      <th>V15</th>\n",
       "      <th>V16</th>\n",
       "      <th>V17</th>\n",
       "      <th>V18</th>\n",
       "      <th>V19</th>\n",
       "      <th>V20</th>\n",
       "      <th>V21</th>\n",
       "      <th>V22</th>\n",
       "      <th>V23</th>\n",
       "      <th>V24</th>\n",
       "      <th>V25</th>\n",
       "      <th>V26</th>\n",
       "      <th>V27</th>\n",
       "      <th>V28</th>\n",
       "      <th>Amount</th>\n",
       "      <th>Class</th>\n",
       "    </tr>\n",
       "  </thead>\n",
       "  <tbody>\n",
       "    <tr>\n",
       "      <th>20352</th>\n",
       "      <td>30979.0</td>\n",
       "      <td>-1.171357</td>\n",
       "      <td>-1.212690</td>\n",
       "      <td>-1.149618</td>\n",
       "      <td>-1.688295</td>\n",
       "      <td>4.336067</td>\n",
       "      <td>1.814393</td>\n",
       "      <td>-0.112039</td>\n",
       "      <td>0.586275</td>\n",
       "      <td>-0.206938</td>\n",
       "      <td>0.017899</td>\n",
       "      <td>-0.269353</td>\n",
       "      <td>-0.231235</td>\n",
       "      <td>-0.167598</td>\n",
       "      <td>0.353563</td>\n",
       "      <td>0.248637</td>\n",
       "      <td>0.259093</td>\n",
       "      <td>-1.052921</td>\n",
       "      <td>-0.096717</td>\n",
       "      <td>-0.138448</td>\n",
       "      <td>0.690824</td>\n",
       "      <td>0.145379</td>\n",
       "      <td>0.007878</td>\n",
       "      <td>0.377684</td>\n",
       "      <td>1.054458</td>\n",
       "      <td>-0.670991</td>\n",
       "      <td>0.727254</td>\n",
       "      <td>0.111507</td>\n",
       "      <td>0.073278</td>\n",
       "      <td>60.00</td>\n",
       "      <td>0</td>\n",
       "    </tr>\n",
       "    <tr>\n",
       "      <th>141947</th>\n",
       "      <td>84533.0</td>\n",
       "      <td>1.442169</td>\n",
       "      <td>-1.274951</td>\n",
       "      <td>1.089082</td>\n",
       "      <td>-1.186507</td>\n",
       "      <td>-1.878643</td>\n",
       "      <td>-0.121957</td>\n",
       "      <td>-1.474348</td>\n",
       "      <td>-0.019901</td>\n",
       "      <td>-1.175903</td>\n",
       "      <td>1.211878</td>\n",
       "      <td>-1.022648</td>\n",
       "      <td>-0.187578</td>\n",
       "      <td>1.600412</td>\n",
       "      <td>-1.197517</td>\n",
       "      <td>-0.324546</td>\n",
       "      <td>-0.427631</td>\n",
       "      <td>0.535682</td>\n",
       "      <td>0.036457</td>\n",
       "      <td>0.040744</td>\n",
       "      <td>-0.217427</td>\n",
       "      <td>-0.242101</td>\n",
       "      <td>-0.112490</td>\n",
       "      <td>-0.007268</td>\n",
       "      <td>0.056946</td>\n",
       "      <td>0.326101</td>\n",
       "      <td>-0.178965</td>\n",
       "      <td>0.082202</td>\n",
       "      <td>0.034640</td>\n",
       "      <td>31.94</td>\n",
       "      <td>0</td>\n",
       "    </tr>\n",
       "    <tr>\n",
       "      <th>244936</th>\n",
       "      <td>152543.0</td>\n",
       "      <td>2.008596</td>\n",
       "      <td>0.482727</td>\n",
       "      <td>-2.468067</td>\n",
       "      <td>1.423583</td>\n",
       "      <td>1.168566</td>\n",
       "      <td>-0.770534</td>\n",
       "      <td>0.723556</td>\n",
       "      <td>-0.344239</td>\n",
       "      <td>0.079018</td>\n",
       "      <td>-0.383867</td>\n",
       "      <td>-0.747403</td>\n",
       "      <td>0.138251</td>\n",
       "      <td>0.193823</td>\n",
       "      <td>-1.092825</td>\n",
       "      <td>-0.345747</td>\n",
       "      <td>-0.155536</td>\n",
       "      <td>0.868001</td>\n",
       "      <td>0.085152</td>\n",
       "      <td>-0.325939</td>\n",
       "      <td>-0.143471</td>\n",
       "      <td>-0.040619</td>\n",
       "      <td>0.062528</td>\n",
       "      <td>-0.053517</td>\n",
       "      <td>0.303004</td>\n",
       "      <td>0.527849</td>\n",
       "      <td>-0.507106</td>\n",
       "      <td>-0.003023</td>\n",
       "      <td>-0.020456</td>\n",
       "      <td>30.08</td>\n",
       "      <td>0</td>\n",
       "    </tr>\n",
       "    <tr>\n",
       "      <th>171462</th>\n",
       "      <td>120646.0</td>\n",
       "      <td>-0.103576</td>\n",
       "      <td>0.567530</td>\n",
       "      <td>-0.075321</td>\n",
       "      <td>-0.351230</td>\n",
       "      <td>1.268384</td>\n",
       "      <td>0.558974</td>\n",
       "      <td>0.890288</td>\n",
       "      <td>0.053713</td>\n",
       "      <td>-0.649669</td>\n",
       "      <td>-0.278198</td>\n",
       "      <td>-0.110218</td>\n",
       "      <td>0.469538</td>\n",
       "      <td>0.365667</td>\n",
       "      <td>0.322640</td>\n",
       "      <td>-0.585058</td>\n",
       "      <td>-0.268936</td>\n",
       "      <td>-0.472550</td>\n",
       "      <td>0.177155</td>\n",
       "      <td>1.824015</td>\n",
       "      <td>0.197431</td>\n",
       "      <td>-0.114318</td>\n",
       "      <td>-0.334360</td>\n",
       "      <td>-0.004824</td>\n",
       "      <td>-0.326746</td>\n",
       "      <td>-0.550940</td>\n",
       "      <td>0.385826</td>\n",
       "      <td>0.114114</td>\n",
       "      <td>0.172771</td>\n",
       "      <td>47.98</td>\n",
       "      <td>0</td>\n",
       "    </tr>\n",
       "    <tr>\n",
       "      <th>50881</th>\n",
       "      <td>44690.0</td>\n",
       "      <td>-1.615601</td>\n",
       "      <td>-0.587216</td>\n",
       "      <td>0.895343</td>\n",
       "      <td>-0.391868</td>\n",
       "      <td>0.105107</td>\n",
       "      <td>-1.273571</td>\n",
       "      <td>-0.681119</td>\n",
       "      <td>0.062275</td>\n",
       "      <td>-1.300750</td>\n",
       "      <td>0.239083</td>\n",
       "      <td>0.541978</td>\n",
       "      <td>-0.400770</td>\n",
       "      <td>0.695800</td>\n",
       "      <td>-1.137155</td>\n",
       "      <td>1.260788</td>\n",
       "      <td>0.831758</td>\n",
       "      <td>1.622582</td>\n",
       "      <td>-1.569616</td>\n",
       "      <td>0.830656</td>\n",
       "      <td>-0.053108</td>\n",
       "      <td>-0.016355</td>\n",
       "      <td>-0.049770</td>\n",
       "      <td>-0.431139</td>\n",
       "      <td>0.389539</td>\n",
       "      <td>-0.964330</td>\n",
       "      <td>-0.534501</td>\n",
       "      <td>-0.088174</td>\n",
       "      <td>-0.415843</td>\n",
       "      <td>15.00</td>\n",
       "      <td>0</td>\n",
       "    </tr>\n",
       "  </tbody>\n",
       "</table>\n",
       "</div>"
      ],
      "text/plain": [
       "            Time        V1        V2        V3        V4        V5        V6  \\\n",
       "20352    30979.0 -1.171357 -1.212690 -1.149618 -1.688295  4.336067  1.814393   \n",
       "141947   84533.0  1.442169 -1.274951  1.089082 -1.186507 -1.878643 -0.121957   \n",
       "244936  152543.0  2.008596  0.482727 -2.468067  1.423583  1.168566 -0.770534   \n",
       "171462  120646.0 -0.103576  0.567530 -0.075321 -0.351230  1.268384  0.558974   \n",
       "50881    44690.0 -1.615601 -0.587216  0.895343 -0.391868  0.105107 -1.273571   \n",
       "\n",
       "              V7        V8        V9       V10       V11       V12       V13  \\\n",
       "20352  -0.112039  0.586275 -0.206938  0.017899 -0.269353 -0.231235 -0.167598   \n",
       "141947 -1.474348 -0.019901 -1.175903  1.211878 -1.022648 -0.187578  1.600412   \n",
       "244936  0.723556 -0.344239  0.079018 -0.383867 -0.747403  0.138251  0.193823   \n",
       "171462  0.890288  0.053713 -0.649669 -0.278198 -0.110218  0.469538  0.365667   \n",
       "50881  -0.681119  0.062275 -1.300750  0.239083  0.541978 -0.400770  0.695800   \n",
       "\n",
       "             V14       V15       V16       V17       V18       V19       V20  \\\n",
       "20352   0.353563  0.248637  0.259093 -1.052921 -0.096717 -0.138448  0.690824   \n",
       "141947 -1.197517 -0.324546 -0.427631  0.535682  0.036457  0.040744 -0.217427   \n",
       "244936 -1.092825 -0.345747 -0.155536  0.868001  0.085152 -0.325939 -0.143471   \n",
       "171462  0.322640 -0.585058 -0.268936 -0.472550  0.177155  1.824015  0.197431   \n",
       "50881  -1.137155  1.260788  0.831758  1.622582 -1.569616  0.830656 -0.053108   \n",
       "\n",
       "             V21       V22       V23       V24       V25       V26       V27  \\\n",
       "20352   0.145379  0.007878  0.377684  1.054458 -0.670991  0.727254  0.111507   \n",
       "141947 -0.242101 -0.112490 -0.007268  0.056946  0.326101 -0.178965  0.082202   \n",
       "244936 -0.040619  0.062528 -0.053517  0.303004  0.527849 -0.507106 -0.003023   \n",
       "171462 -0.114318 -0.334360 -0.004824 -0.326746 -0.550940  0.385826  0.114114   \n",
       "50881  -0.016355 -0.049770 -0.431139  0.389539 -0.964330 -0.534501 -0.088174   \n",
       "\n",
       "             V28  Amount  Class  \n",
       "20352   0.073278   60.00      0  \n",
       "141947  0.034640   31.94      0  \n",
       "244936 -0.020456   30.08      0  \n",
       "171462  0.172771   47.98      0  \n",
       "50881  -0.415843   15.00      0  "
      ]
     },
     "execution_count": 16,
     "metadata": {},
     "output_type": "execute_result"
    }
   ],
   "source": [
    "df.sample(5)"
   ]
  },
  {
   "cell_type": "markdown",
   "metadata": {
    "_cell_guid": "d4f62426-936a-452d-afb0-1bbfe90ec2b9",
    "_uuid": "59821a88f49313be35ea90b998ac760787c3d9ae"
   },
   "source": [
    "Get descriptive statistics."
   ]
  },
  {
   "cell_type": "code",
   "execution_count": 17,
   "metadata": {
    "_cell_guid": "00cda138-bc82-449b-ab6b-8880eb661610",
    "_uuid": "af4086d1e66bf6c8584e85e2071ae142296f9347"
   },
   "outputs": [
    {
     "data": {
      "text/html": [
       "<div>\n",
       "<style scoped>\n",
       "    .dataframe tbody tr th:only-of-type {\n",
       "        vertical-align: middle;\n",
       "    }\n",
       "\n",
       "    .dataframe tbody tr th {\n",
       "        vertical-align: top;\n",
       "    }\n",
       "\n",
       "    .dataframe thead th {\n",
       "        text-align: right;\n",
       "    }\n",
       "</style>\n",
       "<table border=\"1\" class=\"dataframe\">\n",
       "  <thead>\n",
       "    <tr style=\"text-align: right;\">\n",
       "      <th></th>\n",
       "      <th>Time</th>\n",
       "      <th>V1</th>\n",
       "      <th>V2</th>\n",
       "      <th>V3</th>\n",
       "      <th>V4</th>\n",
       "      <th>V5</th>\n",
       "      <th>V6</th>\n",
       "      <th>V7</th>\n",
       "      <th>V8</th>\n",
       "      <th>V9</th>\n",
       "      <th>V10</th>\n",
       "      <th>V11</th>\n",
       "      <th>V12</th>\n",
       "      <th>V13</th>\n",
       "      <th>V14</th>\n",
       "      <th>V15</th>\n",
       "      <th>V16</th>\n",
       "      <th>V17</th>\n",
       "      <th>V18</th>\n",
       "      <th>V19</th>\n",
       "      <th>V20</th>\n",
       "      <th>V21</th>\n",
       "      <th>V22</th>\n",
       "      <th>V23</th>\n",
       "      <th>V24</th>\n",
       "      <th>V25</th>\n",
       "      <th>V26</th>\n",
       "      <th>V27</th>\n",
       "      <th>V28</th>\n",
       "      <th>Amount</th>\n",
       "      <th>Class</th>\n",
       "    </tr>\n",
       "  </thead>\n",
       "  <tbody>\n",
       "    <tr>\n",
       "      <th>count</th>\n",
       "      <td>284807.000000</td>\n",
       "      <td>2.848070e+05</td>\n",
       "      <td>2.848070e+05</td>\n",
       "      <td>2.848070e+05</td>\n",
       "      <td>2.848070e+05</td>\n",
       "      <td>2.848070e+05</td>\n",
       "      <td>2.848070e+05</td>\n",
       "      <td>2.848070e+05</td>\n",
       "      <td>2.848070e+05</td>\n",
       "      <td>2.848070e+05</td>\n",
       "      <td>2.848070e+05</td>\n",
       "      <td>2.848070e+05</td>\n",
       "      <td>2.848070e+05</td>\n",
       "      <td>2.848070e+05</td>\n",
       "      <td>2.848070e+05</td>\n",
       "      <td>2.848070e+05</td>\n",
       "      <td>2.848070e+05</td>\n",
       "      <td>2.848070e+05</td>\n",
       "      <td>2.848070e+05</td>\n",
       "      <td>2.848070e+05</td>\n",
       "      <td>2.848070e+05</td>\n",
       "      <td>2.848070e+05</td>\n",
       "      <td>2.848070e+05</td>\n",
       "      <td>2.848070e+05</td>\n",
       "      <td>2.848070e+05</td>\n",
       "      <td>2.848070e+05</td>\n",
       "      <td>2.848070e+05</td>\n",
       "      <td>2.848070e+05</td>\n",
       "      <td>2.848070e+05</td>\n",
       "      <td>284807.000000</td>\n",
       "      <td>284807.000000</td>\n",
       "    </tr>\n",
       "    <tr>\n",
       "      <th>mean</th>\n",
       "      <td>94813.859575</td>\n",
       "      <td>3.919560e-15</td>\n",
       "      <td>5.688174e-16</td>\n",
       "      <td>-8.769071e-15</td>\n",
       "      <td>2.782312e-15</td>\n",
       "      <td>-1.552563e-15</td>\n",
       "      <td>2.010663e-15</td>\n",
       "      <td>-1.694249e-15</td>\n",
       "      <td>-1.927028e-16</td>\n",
       "      <td>-3.137024e-15</td>\n",
       "      <td>1.768627e-15</td>\n",
       "      <td>9.170318e-16</td>\n",
       "      <td>-1.810658e-15</td>\n",
       "      <td>1.693438e-15</td>\n",
       "      <td>1.479045e-15</td>\n",
       "      <td>3.482336e-15</td>\n",
       "      <td>1.392007e-15</td>\n",
       "      <td>-7.528491e-16</td>\n",
       "      <td>4.328772e-16</td>\n",
       "      <td>9.049732e-16</td>\n",
       "      <td>5.085503e-16</td>\n",
       "      <td>1.537294e-16</td>\n",
       "      <td>7.959909e-16</td>\n",
       "      <td>5.367590e-16</td>\n",
       "      <td>4.458112e-15</td>\n",
       "      <td>1.453003e-15</td>\n",
       "      <td>1.699104e-15</td>\n",
       "      <td>-3.660161e-16</td>\n",
       "      <td>-1.206049e-16</td>\n",
       "      <td>88.349619</td>\n",
       "      <td>0.001727</td>\n",
       "    </tr>\n",
       "    <tr>\n",
       "      <th>std</th>\n",
       "      <td>47488.145955</td>\n",
       "      <td>1.958696e+00</td>\n",
       "      <td>1.651309e+00</td>\n",
       "      <td>1.516255e+00</td>\n",
       "      <td>1.415869e+00</td>\n",
       "      <td>1.380247e+00</td>\n",
       "      <td>1.332271e+00</td>\n",
       "      <td>1.237094e+00</td>\n",
       "      <td>1.194353e+00</td>\n",
       "      <td>1.098632e+00</td>\n",
       "      <td>1.088850e+00</td>\n",
       "      <td>1.020713e+00</td>\n",
       "      <td>9.992014e-01</td>\n",
       "      <td>9.952742e-01</td>\n",
       "      <td>9.585956e-01</td>\n",
       "      <td>9.153160e-01</td>\n",
       "      <td>8.762529e-01</td>\n",
       "      <td>8.493371e-01</td>\n",
       "      <td>8.381762e-01</td>\n",
       "      <td>8.140405e-01</td>\n",
       "      <td>7.709250e-01</td>\n",
       "      <td>7.345240e-01</td>\n",
       "      <td>7.257016e-01</td>\n",
       "      <td>6.244603e-01</td>\n",
       "      <td>6.056471e-01</td>\n",
       "      <td>5.212781e-01</td>\n",
       "      <td>4.822270e-01</td>\n",
       "      <td>4.036325e-01</td>\n",
       "      <td>3.300833e-01</td>\n",
       "      <td>250.120109</td>\n",
       "      <td>0.041527</td>\n",
       "    </tr>\n",
       "    <tr>\n",
       "      <th>min</th>\n",
       "      <td>0.000000</td>\n",
       "      <td>-5.640751e+01</td>\n",
       "      <td>-7.271573e+01</td>\n",
       "      <td>-4.832559e+01</td>\n",
       "      <td>-5.683171e+00</td>\n",
       "      <td>-1.137433e+02</td>\n",
       "      <td>-2.616051e+01</td>\n",
       "      <td>-4.355724e+01</td>\n",
       "      <td>-7.321672e+01</td>\n",
       "      <td>-1.343407e+01</td>\n",
       "      <td>-2.458826e+01</td>\n",
       "      <td>-4.797473e+00</td>\n",
       "      <td>-1.868371e+01</td>\n",
       "      <td>-5.791881e+00</td>\n",
       "      <td>-1.921433e+01</td>\n",
       "      <td>-4.498945e+00</td>\n",
       "      <td>-1.412985e+01</td>\n",
       "      <td>-2.516280e+01</td>\n",
       "      <td>-9.498746e+00</td>\n",
       "      <td>-7.213527e+00</td>\n",
       "      <td>-5.449772e+01</td>\n",
       "      <td>-3.483038e+01</td>\n",
       "      <td>-1.093314e+01</td>\n",
       "      <td>-4.480774e+01</td>\n",
       "      <td>-2.836627e+00</td>\n",
       "      <td>-1.029540e+01</td>\n",
       "      <td>-2.604551e+00</td>\n",
       "      <td>-2.256568e+01</td>\n",
       "      <td>-1.543008e+01</td>\n",
       "      <td>0.000000</td>\n",
       "      <td>0.000000</td>\n",
       "    </tr>\n",
       "    <tr>\n",
       "      <th>25%</th>\n",
       "      <td>54201.500000</td>\n",
       "      <td>-9.203734e-01</td>\n",
       "      <td>-5.985499e-01</td>\n",
       "      <td>-8.903648e-01</td>\n",
       "      <td>-8.486401e-01</td>\n",
       "      <td>-6.915971e-01</td>\n",
       "      <td>-7.682956e-01</td>\n",
       "      <td>-5.540759e-01</td>\n",
       "      <td>-2.086297e-01</td>\n",
       "      <td>-6.430976e-01</td>\n",
       "      <td>-5.354257e-01</td>\n",
       "      <td>-7.624942e-01</td>\n",
       "      <td>-4.055715e-01</td>\n",
       "      <td>-6.485393e-01</td>\n",
       "      <td>-4.255740e-01</td>\n",
       "      <td>-5.828843e-01</td>\n",
       "      <td>-4.680368e-01</td>\n",
       "      <td>-4.837483e-01</td>\n",
       "      <td>-4.988498e-01</td>\n",
       "      <td>-4.562989e-01</td>\n",
       "      <td>-2.117214e-01</td>\n",
       "      <td>-2.283949e-01</td>\n",
       "      <td>-5.423504e-01</td>\n",
       "      <td>-1.618463e-01</td>\n",
       "      <td>-3.545861e-01</td>\n",
       "      <td>-3.171451e-01</td>\n",
       "      <td>-3.269839e-01</td>\n",
       "      <td>-7.083953e-02</td>\n",
       "      <td>-5.295979e-02</td>\n",
       "      <td>5.600000</td>\n",
       "      <td>0.000000</td>\n",
       "    </tr>\n",
       "    <tr>\n",
       "      <th>50%</th>\n",
       "      <td>84692.000000</td>\n",
       "      <td>1.810880e-02</td>\n",
       "      <td>6.548556e-02</td>\n",
       "      <td>1.798463e-01</td>\n",
       "      <td>-1.984653e-02</td>\n",
       "      <td>-5.433583e-02</td>\n",
       "      <td>-2.741871e-01</td>\n",
       "      <td>4.010308e-02</td>\n",
       "      <td>2.235804e-02</td>\n",
       "      <td>-5.142873e-02</td>\n",
       "      <td>-9.291738e-02</td>\n",
       "      <td>-3.275735e-02</td>\n",
       "      <td>1.400326e-01</td>\n",
       "      <td>-1.356806e-02</td>\n",
       "      <td>5.060132e-02</td>\n",
       "      <td>4.807155e-02</td>\n",
       "      <td>6.641332e-02</td>\n",
       "      <td>-6.567575e-02</td>\n",
       "      <td>-3.636312e-03</td>\n",
       "      <td>3.734823e-03</td>\n",
       "      <td>-6.248109e-02</td>\n",
       "      <td>-2.945017e-02</td>\n",
       "      <td>6.781943e-03</td>\n",
       "      <td>-1.119293e-02</td>\n",
       "      <td>4.097606e-02</td>\n",
       "      <td>1.659350e-02</td>\n",
       "      <td>-5.213911e-02</td>\n",
       "      <td>1.342146e-03</td>\n",
       "      <td>1.124383e-02</td>\n",
       "      <td>22.000000</td>\n",
       "      <td>0.000000</td>\n",
       "    </tr>\n",
       "    <tr>\n",
       "      <th>75%</th>\n",
       "      <td>139320.500000</td>\n",
       "      <td>1.315642e+00</td>\n",
       "      <td>8.037239e-01</td>\n",
       "      <td>1.027196e+00</td>\n",
       "      <td>7.433413e-01</td>\n",
       "      <td>6.119264e-01</td>\n",
       "      <td>3.985649e-01</td>\n",
       "      <td>5.704361e-01</td>\n",
       "      <td>3.273459e-01</td>\n",
       "      <td>5.971390e-01</td>\n",
       "      <td>4.539234e-01</td>\n",
       "      <td>7.395934e-01</td>\n",
       "      <td>6.182380e-01</td>\n",
       "      <td>6.625050e-01</td>\n",
       "      <td>4.931498e-01</td>\n",
       "      <td>6.488208e-01</td>\n",
       "      <td>5.232963e-01</td>\n",
       "      <td>3.996750e-01</td>\n",
       "      <td>5.008067e-01</td>\n",
       "      <td>4.589494e-01</td>\n",
       "      <td>1.330408e-01</td>\n",
       "      <td>1.863772e-01</td>\n",
       "      <td>5.285536e-01</td>\n",
       "      <td>1.476421e-01</td>\n",
       "      <td>4.395266e-01</td>\n",
       "      <td>3.507156e-01</td>\n",
       "      <td>2.409522e-01</td>\n",
       "      <td>9.104512e-02</td>\n",
       "      <td>7.827995e-02</td>\n",
       "      <td>77.165000</td>\n",
       "      <td>0.000000</td>\n",
       "    </tr>\n",
       "    <tr>\n",
       "      <th>max</th>\n",
       "      <td>172792.000000</td>\n",
       "      <td>2.454930e+00</td>\n",
       "      <td>2.205773e+01</td>\n",
       "      <td>9.382558e+00</td>\n",
       "      <td>1.687534e+01</td>\n",
       "      <td>3.480167e+01</td>\n",
       "      <td>7.330163e+01</td>\n",
       "      <td>1.205895e+02</td>\n",
       "      <td>2.000721e+01</td>\n",
       "      <td>1.559499e+01</td>\n",
       "      <td>2.374514e+01</td>\n",
       "      <td>1.201891e+01</td>\n",
       "      <td>7.848392e+00</td>\n",
       "      <td>7.126883e+00</td>\n",
       "      <td>1.052677e+01</td>\n",
       "      <td>8.877742e+00</td>\n",
       "      <td>1.731511e+01</td>\n",
       "      <td>9.253526e+00</td>\n",
       "      <td>5.041069e+00</td>\n",
       "      <td>5.591971e+00</td>\n",
       "      <td>3.942090e+01</td>\n",
       "      <td>2.720284e+01</td>\n",
       "      <td>1.050309e+01</td>\n",
       "      <td>2.252841e+01</td>\n",
       "      <td>4.584549e+00</td>\n",
       "      <td>7.519589e+00</td>\n",
       "      <td>3.517346e+00</td>\n",
       "      <td>3.161220e+01</td>\n",
       "      <td>3.384781e+01</td>\n",
       "      <td>25691.160000</td>\n",
       "      <td>1.000000</td>\n",
       "    </tr>\n",
       "  </tbody>\n",
       "</table>\n",
       "</div>"
      ],
      "text/plain": [
       "                Time            V1            V2            V3            V4  \\\n",
       "count  284807.000000  2.848070e+05  2.848070e+05  2.848070e+05  2.848070e+05   \n",
       "mean    94813.859575  3.919560e-15  5.688174e-16 -8.769071e-15  2.782312e-15   \n",
       "std     47488.145955  1.958696e+00  1.651309e+00  1.516255e+00  1.415869e+00   \n",
       "min         0.000000 -5.640751e+01 -7.271573e+01 -4.832559e+01 -5.683171e+00   \n",
       "25%     54201.500000 -9.203734e-01 -5.985499e-01 -8.903648e-01 -8.486401e-01   \n",
       "50%     84692.000000  1.810880e-02  6.548556e-02  1.798463e-01 -1.984653e-02   \n",
       "75%    139320.500000  1.315642e+00  8.037239e-01  1.027196e+00  7.433413e-01   \n",
       "max    172792.000000  2.454930e+00  2.205773e+01  9.382558e+00  1.687534e+01   \n",
       "\n",
       "                 V5            V6            V7            V8            V9  \\\n",
       "count  2.848070e+05  2.848070e+05  2.848070e+05  2.848070e+05  2.848070e+05   \n",
       "mean  -1.552563e-15  2.010663e-15 -1.694249e-15 -1.927028e-16 -3.137024e-15   \n",
       "std    1.380247e+00  1.332271e+00  1.237094e+00  1.194353e+00  1.098632e+00   \n",
       "min   -1.137433e+02 -2.616051e+01 -4.355724e+01 -7.321672e+01 -1.343407e+01   \n",
       "25%   -6.915971e-01 -7.682956e-01 -5.540759e-01 -2.086297e-01 -6.430976e-01   \n",
       "50%   -5.433583e-02 -2.741871e-01  4.010308e-02  2.235804e-02 -5.142873e-02   \n",
       "75%    6.119264e-01  3.985649e-01  5.704361e-01  3.273459e-01  5.971390e-01   \n",
       "max    3.480167e+01  7.330163e+01  1.205895e+02  2.000721e+01  1.559499e+01   \n",
       "\n",
       "                V10           V11           V12           V13           V14  \\\n",
       "count  2.848070e+05  2.848070e+05  2.848070e+05  2.848070e+05  2.848070e+05   \n",
       "mean   1.768627e-15  9.170318e-16 -1.810658e-15  1.693438e-15  1.479045e-15   \n",
       "std    1.088850e+00  1.020713e+00  9.992014e-01  9.952742e-01  9.585956e-01   \n",
       "min   -2.458826e+01 -4.797473e+00 -1.868371e+01 -5.791881e+00 -1.921433e+01   \n",
       "25%   -5.354257e-01 -7.624942e-01 -4.055715e-01 -6.485393e-01 -4.255740e-01   \n",
       "50%   -9.291738e-02 -3.275735e-02  1.400326e-01 -1.356806e-02  5.060132e-02   \n",
       "75%    4.539234e-01  7.395934e-01  6.182380e-01  6.625050e-01  4.931498e-01   \n",
       "max    2.374514e+01  1.201891e+01  7.848392e+00  7.126883e+00  1.052677e+01   \n",
       "\n",
       "                V15           V16           V17           V18           V19  \\\n",
       "count  2.848070e+05  2.848070e+05  2.848070e+05  2.848070e+05  2.848070e+05   \n",
       "mean   3.482336e-15  1.392007e-15 -7.528491e-16  4.328772e-16  9.049732e-16   \n",
       "std    9.153160e-01  8.762529e-01  8.493371e-01  8.381762e-01  8.140405e-01   \n",
       "min   -4.498945e+00 -1.412985e+01 -2.516280e+01 -9.498746e+00 -7.213527e+00   \n",
       "25%   -5.828843e-01 -4.680368e-01 -4.837483e-01 -4.988498e-01 -4.562989e-01   \n",
       "50%    4.807155e-02  6.641332e-02 -6.567575e-02 -3.636312e-03  3.734823e-03   \n",
       "75%    6.488208e-01  5.232963e-01  3.996750e-01  5.008067e-01  4.589494e-01   \n",
       "max    8.877742e+00  1.731511e+01  9.253526e+00  5.041069e+00  5.591971e+00   \n",
       "\n",
       "                V20           V21           V22           V23           V24  \\\n",
       "count  2.848070e+05  2.848070e+05  2.848070e+05  2.848070e+05  2.848070e+05   \n",
       "mean   5.085503e-16  1.537294e-16  7.959909e-16  5.367590e-16  4.458112e-15   \n",
       "std    7.709250e-01  7.345240e-01  7.257016e-01  6.244603e-01  6.056471e-01   \n",
       "min   -5.449772e+01 -3.483038e+01 -1.093314e+01 -4.480774e+01 -2.836627e+00   \n",
       "25%   -2.117214e-01 -2.283949e-01 -5.423504e-01 -1.618463e-01 -3.545861e-01   \n",
       "50%   -6.248109e-02 -2.945017e-02  6.781943e-03 -1.119293e-02  4.097606e-02   \n",
       "75%    1.330408e-01  1.863772e-01  5.285536e-01  1.476421e-01  4.395266e-01   \n",
       "max    3.942090e+01  2.720284e+01  1.050309e+01  2.252841e+01  4.584549e+00   \n",
       "\n",
       "                V25           V26           V27           V28         Amount  \\\n",
       "count  2.848070e+05  2.848070e+05  2.848070e+05  2.848070e+05  284807.000000   \n",
       "mean   1.453003e-15  1.699104e-15 -3.660161e-16 -1.206049e-16      88.349619   \n",
       "std    5.212781e-01  4.822270e-01  4.036325e-01  3.300833e-01     250.120109   \n",
       "min   -1.029540e+01 -2.604551e+00 -2.256568e+01 -1.543008e+01       0.000000   \n",
       "25%   -3.171451e-01 -3.269839e-01 -7.083953e-02 -5.295979e-02       5.600000   \n",
       "50%    1.659350e-02 -5.213911e-02  1.342146e-03  1.124383e-02      22.000000   \n",
       "75%    3.507156e-01  2.409522e-01  9.104512e-02  7.827995e-02      77.165000   \n",
       "max    7.519589e+00  3.517346e+00  3.161220e+01  3.384781e+01   25691.160000   \n",
       "\n",
       "               Class  \n",
       "count  284807.000000  \n",
       "mean        0.001727  \n",
       "std         0.041527  \n",
       "min         0.000000  \n",
       "25%         0.000000  \n",
       "50%         0.000000  \n",
       "75%         0.000000  \n",
       "max         1.000000  "
      ]
     },
     "execution_count": 17,
     "metadata": {},
     "output_type": "execute_result"
    }
   ],
   "source": [
    "df.describe()"
   ]
  },
  {
   "cell_type": "markdown",
   "metadata": {
    "_cell_guid": "8f7ec588-76e0-4148-9fb1-4feeb3dada12",
    "_uuid": "0023ca6d961466f0d748eb7f0c30c7da45371bbf"
   },
   "source": [
    "Note that we will need to standardize the data (rescale each column to zero mean and unit variance) to aid learning algorithms."
   ]
  },
  {
   "cell_type": "markdown",
   "metadata": {
    "_cell_guid": "8f7ec588-76e0-4148-9fb1-4feeb3dada12",
    "_uuid": "0023ca6d961466f0d748eb7f0c30c7da45371bbf"
   },
   "source": [
    "How balanced are the classes, i.e. how common are fraudulent transactions?"
   ]
  },
  {
   "cell_type": "code",
   "execution_count": 13,
   "metadata": {},
   "outputs": [],
   "source": [
    "def my_value_counts(series):\n",
    "    return series.value_counts(normalize=True, dropna=False).sort_index().apply(lambda val: str(np.round(100*val, decimals=4))+'%')"
   ]
  },
  {
   "cell_type": "code",
   "execution_count": 14,
   "metadata": {},
   "outputs": [
    {
     "data": {
      "text/plain": [
       "0    99.8273%\n",
       "1     0.1727%\n",
       "Name: Class, dtype: object"
      ]
     },
     "execution_count": 14,
     "metadata": {},
     "output_type": "execute_result"
    }
   ],
   "source": [
    "my_value_counts(df['Class'])"
   ]
  },
  {
   "cell_type": "markdown",
   "metadata": {
    "_cell_guid": "494ab719-1616-484f-aa45-bbfe65d8551b",
    "_uuid": "02969b991d83731381b47bc52b283e2e154967a4"
   },
   "source": [
    "Only about 0.173% of transactions are fraudulent."
   ]
  },
  {
   "cell_type": "markdown",
   "metadata": {},
   "source": [
    "## Visualizations"
   ]
  },
  {
   "cell_type": "code",
   "execution_count": 18,
   "metadata": {},
   "outputs": [],
   "source": [
    "import matplotlib.pyplot as plt\n",
    "import seaborn as sns\n",
    "%matplotlib inline"
   ]
  },
  {
   "cell_type": "markdown",
   "metadata": {},
   "source": [
    "### Time"
   ]
  },
  {
   "cell_type": "code",
   "execution_count": 31,
   "metadata": {},
   "outputs": [
    {
     "data": {
      "text/plain": [
       "<matplotlib.axes._subplots.AxesSubplot at 0x257b7e88208>"
      ]
     },
     "execution_count": 31,
     "metadata": {},
     "output_type": "execute_result"
    },
    {
     "data": {
      "image/png": "[encoded data removed]",
      "text/plain": [
       "<matplotlib.figure.Figure at 0x257b7e5db38>"
      ]
     },
     "metadata": {},
     "output_type": "display_data"
    }
   ],
   "source": [
    "sns.distplot(df['Time'], kde=False)"
   ]
  },
  {
   "cell_type": "markdown",
   "metadata": {},
   "source": [
    "### Amount"
   ]
  },
  {
   "cell_type": "code",
   "execution_count": 32,
   "metadata": {},
   "outputs": [
    {
     "data": {
      "text/plain": [
       "<matplotlib.axes._subplots.AxesSubplot at 0x257b7f98358>"
      ]
     },
     "execution_count": 32,
     "metadata": {},
     "output_type": "execute_result"
    },
    {
     "data": {
      "image/png": "[encoded data removed]",
      "text/plain": [
       "<matplotlib.figure.Figure at 0x257b7f846d8>"
      ]
     },
     "metadata": {},
     "output_type": "display_data"
    }
   ],
   "source": [
    "sns.distplot(df['Amount'], kde=False)"
   ]
  },
  {
   "cell_type": "code",
   "execution_count": 40,
   "metadata": {},
   "outputs": [
    {
     "data": {
      "text/plain": [
       "<matplotlib.axes._subplots.AxesSubplot at 0x257b82eb240>"
      ]
     },
     "execution_count": 40,
     "metadata": {},
     "output_type": "execute_result"
    },
    {
     "data": {
      "image/png": "[encoded data removed]",
      "text/plain": [
       "<matplotlib.figure.Figure at 0x257b81c1278>"
      ]
     },
     "metadata": {},
     "output_type": "display_data"
    }
   ],
   "source": [
    "sns.distplot(np.arcsinh(df['Amount']), kde=False)"
   ]
  },
  {
   "cell_type": "code",
   "execution_count": 42,
   "metadata": {},
   "outputs": [
    {
     "data": {
      "text/plain": [
       "Time      -0.035568\n",
       "V1        -3.280667\n",
       "V2        -4.624866\n",
       "V3        -2.240155\n",
       "V4         0.676292\n",
       "V5        -2.425901\n",
       "V6         1.826581\n",
       "V7         2.553907\n",
       "V8        -8.521944\n",
       "V9         0.554680\n",
       "V10        1.187141\n",
       "V11        0.356506\n",
       "V12       -2.278401\n",
       "V13        0.065233\n",
       "V14       -1.995176\n",
       "V15       -0.308423\n",
       "V16       -1.100966\n",
       "V17       -3.844914\n",
       "V18       -0.259880\n",
       "V19        0.109192\n",
       "V20       -2.037155\n",
       "V21        3.592991\n",
       "V22       -0.213258\n",
       "V23       -5.875140\n",
       "V24       -0.552499\n",
       "V25       -0.415793\n",
       "V26        0.576693\n",
       "V27       -1.170209\n",
       "V28       11.192091\n",
       "Amount    16.977724\n",
       "Class     23.997579\n",
       "dtype: float64"
      ]
     },
     "execution_count": 42,
     "metadata": {},
     "output_type": "execute_result"
    }
   ],
   "source": [
    "df.skew()"
   ]
  },
  {
   "cell_type": "code",
   "execution_count": 41,
   "metadata": {},
   "outputs": [
    {
     "data": {
      "text/plain": [
       "-0.012652799301672648"
      ]
     },
     "execution_count": 41,
     "metadata": {},
     "output_type": "execute_result"
    }
   ],
   "source": [
    "np.arcsinh(df['Amount']).skew()"
   ]
  },
  {
   "cell_type": "code",
   "execution_count": 43,
   "metadata": {},
   "outputs": [
    {
     "data": {
      "text/plain": [
       "0.4195298757277702"
      ]
     },
     "execution_count": 43,
     "metadata": {},
     "output_type": "execute_result"
    }
   ],
   "source": [
    "np.arcsinh(df['V10']).skew()"
   ]
  },
  {
   "cell_type": "code",
   "execution_count": 218,
   "metadata": {},
   "outputs": [
    {
     "name": "stdout",
     "output_type": "stream",
     "text": [
      "-0.0355676180063216 0.009975700363289979\n"
     ]
    },
    {
     "data": {
      "text/plain": [
       "<matplotlib.axes._subplots.AxesSubplot at 0x257ce00eb38>"
      ]
     },
     "execution_count": 218,
     "metadata": {},
     "output_type": "execute_result"
    },
    {
     "data": {
      "image/png": "[encoded data removed]",
      "text/plain": [
       "<matplotlib.figure.Figure at 0x257cdf10f60>"
      ]
     },
     "metadata": {},
     "output_type": "display_data"
    }
   ],
   "source": [
    "col = 'Time'\n",
    "a = 3**(-11.5)\n",
    "print(df[col].skew(), (1/a*np.sinh(a*df[col])).skew())\n",
    "sns.distplot(1/a*np.sinh(a*df[col]), kde=False)"
   ]
  },
  {
   "cell_type": "markdown",
   "metadata": {
    "_cell_guid": "976962d7-f9c9-41c9-9d75-4eaf6a17b06d",
    "_uuid": "5c3c918f4bcec59b48dc44b6b5d796ae20cdeba0"
   },
   "source": [
    "# Pre-processing\n",
    "<a id='2'></a>"
   ]
  },
  {
   "cell_type": "markdown",
   "metadata": {
    "_cell_guid": "c06156b9-b81e-4404-9904-5a7c5ace45bd",
    "_uuid": "da6648ea4fdbb170231cdb01a2af74cc51628226"
   },
   "source": [
    "Split the data into features and target variable."
   ]
  },
  {
   "cell_type": "code",
   "execution_count": null,
   "metadata": {
    "_cell_guid": "bef72ced-38e9-4ac6-9e5a-808b1d78884f",
    "_uuid": "7372fd82bc5da83aa8bb5315fde1d85688e8d6b0",
    "collapsed": true
   },
   "outputs": [],
   "source": [
    "X = df.drop(labels='Class', axis=1) # Features\n",
    "y = df['Class'] # Target\n",
    "df = None # Delete original dataframe to save memory"
   ]
  },
  {
   "cell_type": "markdown",
   "metadata": {
    "_cell_guid": "d0f93f45-7cc5-40dd-842d-1870486164a3",
    "_uuid": "6df51e7c2fa7a6fe5bdf9d87f9fbe7de9433bf64"
   },
   "source": [
    "## Train/test split"
   ]
  },
  {
   "cell_type": "code",
   "execution_count": null,
   "metadata": {
    "_cell_guid": "1e6fa3fe-6f44-4293-a66e-043e2cc78d02",
    "_uuid": "40fea6c259d8cea82ac0c09b544ac05313270ff1",
    "collapsed": true
   },
   "outputs": [],
   "source": [
    "from sklearn.model_selection import train_test_split"
   ]
  },
  {
   "cell_type": "markdown",
   "metadata": {
    "_cell_guid": "74100588-3a51-4fcb-a02a-3c92a6c6b32f",
    "_uuid": "fa5b1986d2ae5b4e94392336477009352c33193c"
   },
   "source": [
    "Do an 80/20 train/test split."
   ]
  },
  {
   "cell_type": "code",
   "execution_count": null,
   "metadata": {
    "_cell_guid": "ef4278b6-9789-4fdb-befc-412bfc427b4f",
    "_uuid": "6bcc0773be9d933ba0a7f63d90214fd33637d655",
    "collapsed": true
   },
   "outputs": [],
   "source": [
    "random_state = 19 # I chose this randomly, just to fix the results\n",
    "X_train, X_test, y_train, y_test = train_test_split(X, y, test_size=0.2, random_state=random_state)"
   ]
  },
  {
   "cell_type": "markdown",
   "metadata": {
    "_cell_guid": "96967774-031b-4144-aaa4-ddf3f580047b",
    "_uuid": "5132dac849934c61687d93dd79081e8a4e447189"
   },
   "source": [
    "## Standardization"
   ]
  },
  {
   "cell_type": "code",
   "execution_count": null,
   "metadata": {
    "_cell_guid": "830df6af-11eb-4519-881e-22473498ec49",
    "_uuid": "dc47913c5df8a92c831e560750d83aabfb3cf20a",
    "collapsed": true
   },
   "outputs": [],
   "source": [
    "from sklearn.preprocessing import StandardScaler"
   ]
  },
  {
   "cell_type": "markdown",
   "metadata": {
    "_cell_guid": "1bda2e4e-4972-4acd-9fcb-a2513ccf8c8b",
    "_uuid": "07f0cf93cbcf9c3ee1d0125b5305804c6f8d668a"
   },
   "source": [
    "Fit the scaler only to the training data to avoid test set leakage."
   ]
  },
  {
   "cell_type": "code",
   "execution_count": null,
   "metadata": {
    "_cell_guid": "dd0f318e-61d0-4ef5-8d59-990af6e36250",
    "_uuid": "da44f1b2cdfaa47f24aaa8285d0ad8b87758acda",
    "collapsed": true
   },
   "outputs": [],
   "source": [
    "scaler = StandardScaler().fit(X_train)"
   ]
  },
  {
   "cell_type": "markdown",
   "metadata": {
    "_cell_guid": "59da9c8a-d7f6-4f30-8f23-4a46fda51a3a",
    "_uuid": "e3c647063b2fc9415ebc0f61bbd1abab5d77a0c6"
   },
   "source": [
    "Scale the data."
   ]
  },
  {
   "cell_type": "code",
   "execution_count": null,
   "metadata": {
    "_cell_guid": "19ccc5cb-5f09-45cc-b9d0-a9a4edf1e024",
    "_uuid": "c4f568237c33f9ac005a00a7c65f392222674128",
    "collapsed": true
   },
   "outputs": [],
   "source": [
    "X_train = pd.DataFrame(scaler.transform(X_train), columns=X_train.columns)\n",
    "X_test  = pd.DataFrame(scaler.transform(X_test),  columns=X_test.columns)"
   ]
  },
  {
   "cell_type": "markdown",
   "metadata": {
    "_cell_guid": "4cb52db6-f54a-4f1f-a056-332413a2bf8f",
    "_uuid": "337f0cff30885c40ff909ff41d39f23637ce2f02"
   },
   "source": [
    "# Predictive Modeling\n",
    "<a id='3'></a>"
   ]
  },
  {
   "cell_type": "code",
   "execution_count": null,
   "metadata": {
    "_cell_guid": "923a203f-20de-4f82-89d3-e2207a843669",
    "_uuid": "2e87d978dcf446ad11025d41f7b4a2220355b385",
    "collapsed": true
   },
   "outputs": [],
   "source": [
    "from sklearn.model_selection import GridSearchCV\n",
    "from sklearn.metrics import matthews_corrcoef, make_scorer"
   ]
  },
  {
   "cell_type": "markdown",
   "metadata": {
    "_cell_guid": "ff58210c-bff5-4802-a598-a14ba65ab132",
    "_uuid": "42bee521e8051396dd2c728126e5569ee5707daf"
   },
   "source": [
    "## Linear Classification with Stochastic Gradient Descent (SGD)\n",
    "<a id='3.1'></a>"
   ]
  },
  {
   "cell_type": "code",
   "execution_count": null,
   "metadata": {
    "_cell_guid": "13db0842-917a-4559-97fc-348c0a1cd5a7",
    "_uuid": "d24a95d46fb8ff54928a1287fd81bd6d2ed00899",
    "collapsed": true
   },
   "outputs": [],
   "source": [
    "from sklearn.linear_model import SGDClassifier"
   ]
  },
  {
   "cell_type": "markdown",
   "metadata": {
    "_cell_guid": "05340a29-ef89-41e0-9707-e144b09cc556",
    "_uuid": "16b1b1f0be5e5d7b2b921c2b5b1936940d0646c2"
   },
   "source": [
    "The estimator `SGDClassifier` ([documentation](http://scikit-learn.org/stable/modules/generated/sklearn.linear_model.SGDClassifier.html)) implements multiple linear classifiers with SGD training, which makes it very fast on large datasets at the cost of accuracy."
   ]
  },
  {
   "cell_type": "markdown",
   "metadata": {
    "_cell_guid": "ec033a4f-9d40-4259-8bd2-e5f8681a61bb",
    "_uuid": "8474054f088729a0a40bb04333ccc2a4aa3d3470"
   },
   "source": [
    "### Train with grid search"
   ]
  },
  {
   "cell_type": "markdown",
   "metadata": {
    "_cell_guid": "85f67845-4095-4094-a076-07cbbf137b29",
    "_uuid": "a49896a87a78f2d9ba76dad2c8ed42e5b36e326c"
   },
   "source": [
    "The linear classifier is chosen with the `loss` hyperparameter. We'll try a linear SVC (`loss = 'hinge'`) and logistic regression (`loss = 'log'`)."
   ]
  },
  {
   "cell_type": "code",
   "execution_count": null,
   "metadata": {
    "_cell_guid": "f365e59e-41df-46f0-8f17-5f82a5db63b4",
    "_uuid": "12ec50d10be23449df42ac265d1703f52443bb83",
    "collapsed": true
   },
   "outputs": [],
   "source": [
    "param_grid = [{'loss': ['hinge'],\n",
    "               'alpha': [10.0**k for k in range(-6,4)],\n",
    "               'max_iter': [1000],\n",
    "               'tol': [1e-3],\n",
    "               'random_state': [random_state],\n",
    "               'class_weight': [None, 'balanced'],\n",
    "               'warm_start': [True]},\n",
    "              {'loss': ['log'],\n",
    "               'penalty': ['l2', 'l1'],\n",
    "               'alpha': [10.0**k for k in range(-6,4)],\n",
    "               'max_iter': [1000],\n",
    "               'tol': [1e-3],\n",
    "               'random_state': [random_state],\n",
    "               'warm_start': [True]}]"
   ]
  },
  {
   "cell_type": "markdown",
   "metadata": {
    "_cell_guid": "6f3ae04e-5a6f-4da6-b695-df37b59f3e98",
    "_uuid": "ccec293d64596dbe036006319a002eb5e6a20556"
   },
   "source": [
    "We'll use the Matthews correlation coefficient (MCC) ([documentation](http://scikit-learn.org/stable/modules/generated/sklearn.metrics.matthews_corrcoef.html)) as our scoring metric."
   ]
  },
  {
   "cell_type": "code",
   "execution_count": null,
   "metadata": {
    "_cell_guid": "24614f27-48a8-4093-b47e-88b11fc3099d",
    "_uuid": "84826d16dcff9280efb3d821211c7f7b62d00620",
    "collapsed": true
   },
   "outputs": [],
   "source": [
    "grid = GridSearchCV(estimator=SGDClassifier(), param_grid=param_grid, scoring=make_scorer(matthews_corrcoef), \n",
    "                    n_jobs=-1, verbose=1, return_train_score=True)"
   ]
  },
  {
   "cell_type": "markdown",
   "metadata": {
    "_cell_guid": "e24b2f08-2e0d-48ea-80c7-e1e94f202c09",
    "_uuid": "a5207699474eea2ab2e08356215dcd3571a0da3a"
   },
   "source": [
    "Perform the grid search:"
   ]
  },
  {
   "cell_type": "code",
   "execution_count": null,
   "metadata": {
    "_cell_guid": "e91120ad-d2cf-4387-b6c0-c61917510a7b",
    "_uuid": "d0dbc65a80835afb2ce94217f1c07c8e0a80d3fd",
    "collapsed": true
   },
   "outputs": [],
   "source": [
    "grid.fit(X_train, y_train)"
   ]
  },
  {
   "cell_type": "markdown",
   "metadata": {
    "_cell_guid": "349055be-f543-45ec-9d49-5602610440da",
    "_uuid": "7b7d88c3a0abb8d03e2fcc0b4f4a6fefbaeca8f2"
   },
   "source": [
    "What are the optimal parameters from our chosen grid?"
   ]
  },
  {
   "cell_type": "code",
   "execution_count": null,
   "metadata": {
    "_cell_guid": "9f12d8ea-bc2c-4fd4-bab1-5aff65c54906",
    "_uuid": "836dc9e7f4cfe909f212f386e38692a070c59c9e",
    "collapsed": true
   },
   "outputs": [],
   "source": [
    "grid.best_params_"
   ]
  },
  {
   "cell_type": "markdown",
   "metadata": {
    "_cell_guid": "0ccfb680-5f71-45bf-9ad0-eb92fa77f4c6",
    "_uuid": "0b2c4867b3ee9e908bf7613480dee910e05ce11a"
   },
   "source": [
    "### Test set evaluation"
   ]
  },
  {
   "cell_type": "markdown",
   "metadata": {
    "_cell_guid": "81377895-9220-4b07-9a66-597075e5c26c",
    "_uuid": "4048c55286c34b4234cca34a6655e1b9c8452a4c"
   },
   "source": [
    "Make test set predictions."
   ]
  },
  {
   "cell_type": "code",
   "execution_count": null,
   "metadata": {
    "_cell_guid": "7a23849c-5a2b-4391-b79e-fbd61b84501a",
    "_uuid": "bd88dcedc2f59b959e9063c484560945ba4703ba",
    "collapsed": true
   },
   "outputs": [],
   "source": [
    "y_pred = grid.predict(X_test)"
   ]
  },
  {
   "cell_type": "markdown",
   "metadata": {
    "_cell_guid": "4d7a8f72-4edd-4b3c-95a5-f3fa29ff7f04",
    "_uuid": "7e39829e0ffa2fa8166ab50fb3d5b5bc5cf1c871"
   },
   "source": [
    "**Evaluation metrics:**"
   ]
  },
  {
   "cell_type": "code",
   "execution_count": null,
   "metadata": {
    "_cell_guid": "275cb55b-b9c8-482f-86b3-6c82caf7c153",
    "_uuid": "2bb7a6794a5f4e98773f2b26cba0ba71a6472aad",
    "collapsed": true
   },
   "outputs": [],
   "source": [
    "from sklearn.metrics import confusion_matrix, classification_report, average_precision_score"
   ]
  },
  {
   "cell_type": "code",
   "execution_count": null,
   "metadata": {
    "_cell_guid": "13f72647-4a31-47a2-9971-871c8df09aa9",
    "_uuid": "4ad4004eafcca2ae59ac198327e952fe93fe889c",
    "collapsed": true
   },
   "outputs": [],
   "source": [
    "# Display evaluation metrics\n",
    "def my_eval(y_test, y_pred):\n",
    "    print('Confusion matrix')\n",
    "    print(confusion_matrix(y_test, y_pred),'\\n')\n",
    "    print('Classification report')\n",
    "    print(classification_report(y_test, y_pred, digits=3))\n",
    "    print('  MCC = ' ,matthews_corrcoef(y_test, y_pred))\n",
    "    print('AUPRC = ', average_precision_score(y_test, y_pred))"
   ]
  },
  {
   "cell_type": "code",
   "execution_count": null,
   "metadata": {
    "_cell_guid": "fed87b52-b81b-43f6-ac1f-4a7a9d78d58d",
    "_uuid": "fe8fd85ae8b465b00ba967cba1eb082a0046dbce",
    "collapsed": true
   },
   "outputs": [],
   "source": [
    "my_eval(y_test, y_pred)"
   ]
  },
  {
   "cell_type": "markdown",
   "metadata": {
    "_cell_guid": "ed076c15-29b9-4e0f-97a5-29b48583edde",
    "_uuid": "ce3c46d93955dcccc803a5192c2db34150561a4b"
   },
   "source": [
    "The `average_precision_score` ([documentation](http://scikit-learn.org/stable/modules/generated/sklearn.metrics.average_precision_score.html)) is an AUPRC-like metric (Area Under Precision-Recall Curve)."
   ]
  },
  {
   "cell_type": "markdown",
   "metadata": {
    "_cell_guid": "e9d7a963-410a-431e-b8ab-54597f4c7525",
    "_uuid": "ec7558d55c8a6abc525f49cd553f572bd8c37557"
   },
   "source": [
    "## Random Forest Classifier\n",
    "<a id='3.2'></a>"
   ]
  },
  {
   "cell_type": "code",
   "execution_count": null,
   "metadata": {
    "_cell_guid": "7fee44fa-ad54-429a-ab97-b8a41184030e",
    "_uuid": "493cc36f8bdd5eb5b4c898bf01ec1f1c93688a91",
    "collapsed": true
   },
   "outputs": [],
   "source": [
    "from sklearn.ensemble import RandomForestClassifier"
   ]
  },
  {
   "cell_type": "markdown",
   "metadata": {
    "_cell_guid": "3028e0cc-ba8b-48c9-8287-cd776c0019fc",
    "_uuid": "205ce441d217d88c123e69b23f8e2e84e5f2f9d1"
   },
   "source": [
    "### Train"
   ]
  },
  {
   "cell_type": "markdown",
   "metadata": {
    "_cell_guid": "2dca52bf-7286-4afc-af09-5c5d6c3bda07",
    "_uuid": "33126a40a3f4d1d4d6a8cff170a9f636cf273efa"
   },
   "source": [
    "The random forest takes much longer to train on this fairly large dataset, so we won't tune the hyperparameters with a grid search. We'll just use default values, except for using 100 estimators (the default is 10) and building trees in parallel (`n_jobs = -1`)."
   ]
  },
  {
   "cell_type": "code",
   "execution_count": null,
   "metadata": {
    "_cell_guid": "961b4803-ee08-48d8-9ef4-c62060ad7c0c",
    "_uuid": "9c57ae8d4f3d6e8af1886cd7ec71cc4ac6daa2a6",
    "collapsed": true
   },
   "outputs": [],
   "source": [
    "rf = RandomForestClassifier(n_estimators=100, n_jobs=-1, random_state=random_state)"
   ]
  },
  {
   "cell_type": "code",
   "execution_count": null,
   "metadata": {
    "_cell_guid": "c99e38af-5b1a-4278-88b1-a59421465414",
    "_uuid": "995652918fc3d6595f59ca537fb16b7510a507ce",
    "collapsed": true
   },
   "outputs": [],
   "source": [
    "rf.fit(X_train, y_train)"
   ]
  },
  {
   "cell_type": "markdown",
   "metadata": {
    "_cell_guid": "dc331545-1651-48d9-b55c-e5ca8433489b",
    "_uuid": "76de58b38268c569c85fa4a4ea69e6a84e070240"
   },
   "source": [
    "### Test set evaluation"
   ]
  },
  {
   "cell_type": "markdown",
   "metadata": {
    "_cell_guid": "d87eda8a-49ba-4aea-955b-b6e82785c266",
    "_uuid": "b5d62a0ac5501be608a0ea2ad3eb717c266e15f2"
   },
   "source": [
    "Make test set predictions."
   ]
  },
  {
   "cell_type": "code",
   "execution_count": null,
   "metadata": {
    "_cell_guid": "23a2c2ed-8129-4368-bbe5-42e1029b2ae4",
    "_uuid": "989b87ce70e20e6d3cfce5392a0b80da483ee93a",
    "collapsed": true
   },
   "outputs": [],
   "source": [
    "y_pred = rf.predict(X_test)"
   ]
  },
  {
   "cell_type": "markdown",
   "metadata": {
    "_cell_guid": "ca1f3428-386a-4ece-a7c6-b45b10ae8162",
    "_uuid": "12f6442075518cb28e39e0952e002c2a9807d9de"
   },
   "source": [
    "**Evaluation metrics:**"
   ]
  },
  {
   "cell_type": "code",
   "execution_count": null,
   "metadata": {
    "_cell_guid": "ebddf4b2-4243-49c8-b167-1da2377b485e",
    "_uuid": "7c5db27979e4a7f425bb4cb00edf76247345c727",
    "collapsed": true
   },
   "outputs": [],
   "source": [
    "my_eval(y_test, y_pred)"
   ]
  },
  {
   "cell_type": "markdown",
   "metadata": {
    "_cell_guid": "85996088-ee0e-42bf-8781-2fb15ff8a948",
    "_uuid": "9c94c75d74170afae1800ce1e372e9ac1cf3e9dd"
   },
   "source": [
    "The random forest performed significantly better than the linear SVC. However, our results may vary significantly for different train/test splits."
   ]
  }
 ],
 "metadata": {
  "kernelspec": {
   "display_name": "Python 3",
   "language": "python",
   "name": "python3"
  },
  "language_info": {
   "codemirror_mode": {
    "name": "ipython",
    "version": 3
   },
   "file_extension": ".py",
   "mimetype": "text/x-python",
   "name": "python",
   "nbconvert_exporter": "python",
   "pygments_lexer": "ipython3",
   "version": "3.6.4"
  }
 },
 "nbformat": 4,
 "nbformat_minor": 1
}
