{
 "cells": [
  {
   "cell_type": "markdown",
   "metadata": {
    "_cell_guid": "11d9df76-b958-4da3-bfde-f454ae168f12",
    "_uuid": "1b7686d71dd154eea3edcecdb36bbe291d51666f"
   },
   "source": [
    "# Credit Card Fraud Detection\n",
    "\n",
    "***By Joe Corliss***"
   ]
  },
  {
   "cell_type": "markdown",
   "metadata": {
    "_cell_guid": "11d9df76-b958-4da3-bfde-f454ae168f12",
    "_uuid": "1b7686d71dd154eea3edcecdb36bbe291d51666f"
   },
   "source": [
    "## Table of Contents"
   ]
  },
  {
   "cell_type": "markdown",
   "metadata": {
    "_cell_guid": "11d9df76-b958-4da3-bfde-f454ae168f12",
    "_uuid": "1b7686d71dd154eea3edcecdb36bbe291d51666f"
   },
   "source": [
    "1. [Introduction](#1)\n",
    "2. [Basic Metadata](#2)\n",
    "3. [Train/Test Split](#3)\n",
    "4. [Exploratory Data Analysis](#4)\n",
    "    1. [Time](#4.1)\n",
    "    2. [Amount](#4.2)\n",
    "    3. [Time vs. Amount](#4.3)\n",
    "    4. [V1-V28](#4.4)\n",
    "5. [Data Standardization](#5)\n",
    "6. [Machine Learning: Predicting Fraud](#6)\n",
    "    1. [Linear Classification](#6.1)\n",
    "    2. [Random Forest](#6.2)\n",
    "    3. [Naive Bayes](#6.3)\n",
    "7. [Conclusion](#7)"
   ]
  },
  {
   "cell_type": "markdown",
   "metadata": {},
   "source": [
    "# Introduction\n",
    "<a id='1'></a>"
   ]
  },
  {
   "cell_type": "markdown",
   "metadata": {
    "_cell_guid": "11d9df76-b958-4da3-bfde-f454ae168f12",
    "_uuid": "1b7686d71dd154eea3edcecdb36bbe291d51666f"
   },
   "source": [
    "[The Dataset](https://www.kaggle.com/mlg-ulb/creditcardfraud) - The dataset on Kaggle\n",
    "\n",
    "[Kaggle Notebook](https://www.kaggle.com/pileatedperch/linear-svc-random-forest-mcc-0-77-0-88) - A version of this notebook hosted on Kaggle\n",
    "\n",
    "[GitHub Repository](https://github.com/jgcorliss/credit-card-fraud) - This project on GitHub\n",
    "\n",
    "In this project we study a dataset of credit card transactions made in September 2013 by European cardholders. The data contains 284,807 transactions that occurred over a two-day period, of which 492 (0.17%) are fraudulent.\n",
    "\n",
    "Each transaction has 30 features, all of which are numerical. The features `V1, V2, ..., V28` are the result of a PCA transformation. To protect confidentiality, background information on these features is not available. The `Time` feature contains the time elapsed since the first transaction, and the `Amount` feature contains the transaction amount. The response variable, `Class`, is 1 in the case of fraud, and 0 otherwise.\n",
    "\n",
    "Our goal in this project is to construct a model to identify fraudulent transactions using the 30 features of each transaction. We'll also create visualizations to help us understand the structure of the data and unearth any interesting patterns."
   ]
  },
  {
   "cell_type": "markdown",
   "metadata": {
    "_cell_guid": "637b0320-5b60-48c1-8a30-12877d9d3706",
    "_uuid": "3ac770b4ec327e649c8f6aaebe62e5d9deda3ce1"
   },
   "source": [
    "# Basic Metadata\n",
    "<a id='2'></a>"
   ]
  },
  {
   "cell_type": "markdown",
   "metadata": {},
   "source": [
    "Import basic libraries:"
   ]
  },
  {
   "cell_type": "code",
   "execution_count": 1,
   "metadata": {
    "_cell_guid": "6d9ae327-80a0-477d-9dc7-bef5c7fa2ae4",
    "_uuid": "5df5d6d9eb66c3fe6943f1bed5d01d9096e0939e"
   },
   "outputs": [],
   "source": [
    "import numpy as np\n",
    "import scipy as sp\n",
    "import pandas as pd\n",
    "import matplotlib as mpl\n",
    "import matplotlib.pyplot as plt\n",
    "import seaborn as sns\n",
    "\n",
    "# Pandas options\n",
    "pd.set_option('display.max_colwidth', 1000, 'display.max_rows', None, 'display.max_columns', None)\n",
    "\n",
    "# Plotting options\n",
    "%matplotlib inline\n",
    "mpl.style.use('ggplot')\n",
    "sns.set(style='whitegrid')"
   ]
  },
  {
   "cell_type": "markdown",
   "metadata": {
    "_cell_guid": "c46a6889-76ed-4174-b01f-ee57c553a4a6",
    "_uuid": "ba7704d23e6bf26359fc570b250e4e3573a90b01"
   },
   "source": [
    "Read in the data to a pandas dataframe."
   ]
  },
  {
   "cell_type": "code",
   "execution_count": 2,
   "metadata": {
    "_cell_guid": "b2eaac2a-dd66-4487-a7cc-ff8a6f9d895b",
    "_uuid": "1633367750b89e28917f9e740fe55269c0f41daf"
   },
   "outputs": [],
   "source": [
    "df = pd.read_csv('creditcard.csv')"
   ]
  },
  {
   "cell_type": "markdown",
   "metadata": {
    "_cell_guid": "3b0d2746-1bd2-4121-a70c-14f34aff322b",
    "_uuid": "ba7ed08e89eca5a23f447ce2b6afcaf555751fe7"
   },
   "source": [
    "Check basic metadata."
   ]
  },
  {
   "cell_type": "code",
   "execution_count": 3,
   "metadata": {},
   "outputs": [
    {
     "data": {
      "text/plain": [
       "(284807, 31)"
      ]
     },
     "execution_count": 3,
     "metadata": {},
     "output_type": "execute_result"
    }
   ],
   "source": [
    "df.shape"
   ]
  },
  {
   "cell_type": "code",
   "execution_count": 4,
   "metadata": {
    "_cell_guid": "4f1f3529-274f-464b-8693-c5696021bf5b",
    "_uuid": "16fc775a28983a0591370de08bd0941572f675c4",
    "scrolled": true
   },
   "outputs": [
    {
     "name": "stdout",
     "output_type": "stream",
     "text": [
      "<class 'pandas.core.frame.DataFrame'>\n",
      "RangeIndex: 284807 entries, 0 to 284806\n",
      "Data columns (total 31 columns):\n",
      "Time      284807 non-null float64\n",
      "V1        284807 non-null float64\n",
      "V2        284807 non-null float64\n",
      "V3        284807 non-null float64\n",
      "V4        284807 non-null float64\n",
      "V5        284807 non-null float64\n",
      "V6        284807 non-null float64\n",
      "V7        284807 non-null float64\n",
      "V8        284807 non-null float64\n",
      "V9        284807 non-null float64\n",
      "V10       284807 non-null float64\n",
      "V11       284807 non-null float64\n",
      "V12       284807 non-null float64\n",
      "V13       284807 non-null float64\n",
      "V14       284807 non-null float64\n",
      "V15       284807 non-null float64\n",
      "V16       284807 non-null float64\n",
      "V17       284807 non-null float64\n",
      "V18       284807 non-null float64\n",
      "V19       284807 non-null float64\n",
      "V20       284807 non-null float64\n",
      "V21       284807 non-null float64\n",
      "V22       284807 non-null float64\n",
      "V23       284807 non-null float64\n",
      "V24       284807 non-null float64\n",
      "V25       284807 non-null float64\n",
      "V26       284807 non-null float64\n",
      "V27       284807 non-null float64\n",
      "V28       284807 non-null float64\n",
      "Amount    284807 non-null float64\n",
      "Class     284807 non-null int64\n",
      "dtypes: float64(30), int64(1)\n",
      "memory usage: 67.4 MB\n"
     ]
    }
   ],
   "source": [
    "df.info()"
   ]
  },
  {
   "cell_type": "markdown",
   "metadata": {},
   "source": [
    "Are there any incomplete variables?"
   ]
  },
  {
   "cell_type": "code",
   "execution_count": 5,
   "metadata": {},
   "outputs": [],
   "source": [
    "def incomplete_cols(df):\n",
    "    \"\"\"\n",
    "    Returns a list of incomplete columns in df and their completion percentage.\n",
    "    \n",
    "    Input: pandas DataFrame\n",
    "    Return: pandas Series\n",
    "    \"\"\"\n",
    "    cmp = df.notnull().mean()\n",
    "    cmp = cmp.loc[cmp<1]\n",
    "    dec = np.int64(np.ceil(np.log10(df.shape[0]))) - 2 # Number of decimal places based on no. of samples\n",
    "    return cmp.apply(lambda val: str(np.round(100*val, decimals=dec))+'%')"
   ]
  },
  {
   "cell_type": "code",
   "execution_count": 6,
   "metadata": {},
   "outputs": [
    {
     "data": {
      "text/plain": [
       "Series([], dtype: float64)"
      ]
     },
     "execution_count": 6,
     "metadata": {},
     "output_type": "execute_result"
    }
   ],
   "source": [
    "incomplete_cols(df)"
   ]
  },
  {
   "cell_type": "markdown",
   "metadata": {},
   "source": [
    "There are no variables with missing values!"
   ]
  },
  {
   "cell_type": "markdown",
   "metadata": {},
   "source": [
    "Let's randomly sample some observations (credit card transactions)."
   ]
  },
  {
   "cell_type": "code",
   "execution_count": 7,
   "metadata": {
    "_cell_guid": "bc604ca1-88c0-4283-af5d-620fbdb2dff7",
    "_uuid": "7c96bb853ac6ed993aab097b658fac0e75bc61ed"
   },
   "outputs": [
    {
     "data": {
      "text/html": [
       "<div>\n",
       "<style scoped>\n",
       "    .dataframe tbody tr th:only-of-type {\n",
       "        vertical-align: middle;\n",
       "    }\n",
       "\n",
       "    .dataframe tbody tr th {\n",
       "        vertical-align: top;\n",
       "    }\n",
       "\n",
       "    .dataframe thead th {\n",
       "        text-align: right;\n",
       "    }\n",
       "</style>\n",
       "<table border=\"1\" class=\"dataframe\">\n",
       "  <thead>\n",
       "    <tr style=\"text-align: right;\">\n",
       "      <th></th>\n",
       "      <th>Time</th>\n",
       "      <th>V1</th>\n",
       "      <th>V2</th>\n",
       "      <th>V3</th>\n",
       "      <th>V4</th>\n",
       "      <th>V5</th>\n",
       "      <th>V6</th>\n",
       "      <th>V7</th>\n",
       "      <th>V8</th>\n",
       "      <th>V9</th>\n",
       "      <th>V10</th>\n",
       "      <th>V11</th>\n",
       "      <th>V12</th>\n",
       "      <th>V13</th>\n",
       "      <th>V14</th>\n",
       "      <th>V15</th>\n",
       "      <th>V16</th>\n",
       "      <th>V17</th>\n",
       "      <th>V18</th>\n",
       "      <th>V19</th>\n",
       "      <th>V20</th>\n",
       "      <th>V21</th>\n",
       "      <th>V22</th>\n",
       "      <th>V23</th>\n",
       "      <th>V24</th>\n",
       "      <th>V25</th>\n",
       "      <th>V26</th>\n",
       "      <th>V27</th>\n",
       "      <th>V28</th>\n",
       "      <th>Amount</th>\n",
       "      <th>Class</th>\n",
       "    </tr>\n",
       "  </thead>\n",
       "  <tbody>\n",
       "    <tr>\n",
       "      <th>97517</th>\n",
       "      <td>66253.0</td>\n",
       "      <td>-1.960989</td>\n",
       "      <td>-0.426963</td>\n",
       "      <td>1.133922</td>\n",
       "      <td>-2.973036</td>\n",
       "      <td>-0.638268</td>\n",
       "      <td>-1.148856</td>\n",
       "      <td>-0.081164</td>\n",
       "      <td>-0.231608</td>\n",
       "      <td>-1.438248</td>\n",
       "      <td>1.691626</td>\n",
       "      <td>-0.228489</td>\n",
       "      <td>-0.971678</td>\n",
       "      <td>0.167445</td>\n",
       "      <td>-0.845680</td>\n",
       "      <td>-0.343665</td>\n",
       "      <td>-0.283023</td>\n",
       "      <td>0.134519</td>\n",
       "      <td>-0.704116</td>\n",
       "      <td>-2.253471</td>\n",
       "      <td>-0.861695</td>\n",
       "      <td>-0.324220</td>\n",
       "      <td>0.249626</td>\n",
       "      <td>0.465876</td>\n",
       "      <td>0.352365</td>\n",
       "      <td>-0.161494</td>\n",
       "      <td>-0.617677</td>\n",
       "      <td>-0.265149</td>\n",
       "      <td>-0.360966</td>\n",
       "      <td>10.0</td>\n",
       "      <td>0</td>\n",
       "    </tr>\n",
       "    <tr>\n",
       "      <th>269201</th>\n",
       "      <td>163585.0</td>\n",
       "      <td>-0.464650</td>\n",
       "      <td>1.430744</td>\n",
       "      <td>-0.371606</td>\n",
       "      <td>1.035875</td>\n",
       "      <td>0.386231</td>\n",
       "      <td>-0.991496</td>\n",
       "      <td>1.031202</td>\n",
       "      <td>0.187769</td>\n",
       "      <td>-0.610770</td>\n",
       "      <td>-0.182158</td>\n",
       "      <td>-1.525213</td>\n",
       "      <td>-0.740450</td>\n",
       "      <td>-1.666562</td>\n",
       "      <td>1.094188</td>\n",
       "      <td>-0.244790</td>\n",
       "      <td>-0.966356</td>\n",
       "      <td>0.393161</td>\n",
       "      <td>-0.058685</td>\n",
       "      <td>0.824957</td>\n",
       "      <td>-0.120895</td>\n",
       "      <td>0.140019</td>\n",
       "      <td>0.513033</td>\n",
       "      <td>-0.198634</td>\n",
       "      <td>0.021581</td>\n",
       "      <td>0.018910</td>\n",
       "      <td>-0.373703</td>\n",
       "      <td>0.298306</td>\n",
       "      <td>0.179358</td>\n",
       "      <td>20.9</td>\n",
       "      <td>0</td>\n",
       "    </tr>\n",
       "    <tr>\n",
       "      <th>133724</th>\n",
       "      <td>80504.0</td>\n",
       "      <td>-0.924583</td>\n",
       "      <td>0.813780</td>\n",
       "      <td>1.186900</td>\n",
       "      <td>0.140816</td>\n",
       "      <td>1.364962</td>\n",
       "      <td>-1.107918</td>\n",
       "      <td>0.944652</td>\n",
       "      <td>-0.230187</td>\n",
       "      <td>-0.368200</td>\n",
       "      <td>-1.063844</td>\n",
       "      <td>-0.770212</td>\n",
       "      <td>-1.243027</td>\n",
       "      <td>-1.257506</td>\n",
       "      <td>-1.189528</td>\n",
       "      <td>0.690917</td>\n",
       "      <td>0.769712</td>\n",
       "      <td>0.234711</td>\n",
       "      <td>0.862429</td>\n",
       "      <td>-0.857359</td>\n",
       "      <td>0.036369</td>\n",
       "      <td>-0.065089</td>\n",
       "      <td>-0.234431</td>\n",
       "      <td>-0.454654</td>\n",
       "      <td>-0.304720</td>\n",
       "      <td>0.722478</td>\n",
       "      <td>-0.403505</td>\n",
       "      <td>-0.138963</td>\n",
       "      <td>-0.129232</td>\n",
       "      <td>1.0</td>\n",
       "      <td>0</td>\n",
       "    </tr>\n",
       "    <tr>\n",
       "      <th>235344</th>\n",
       "      <td>148347.0</td>\n",
       "      <td>1.916198</td>\n",
       "      <td>-1.842805</td>\n",
       "      <td>-0.899728</td>\n",
       "      <td>-1.541882</td>\n",
       "      <td>-1.246061</td>\n",
       "      <td>-0.098173</td>\n",
       "      <td>-0.962337</td>\n",
       "      <td>-0.055340</td>\n",
       "      <td>-1.542236</td>\n",
       "      <td>1.554730</td>\n",
       "      <td>0.933294</td>\n",
       "      <td>0.484665</td>\n",
       "      <td>1.096460</td>\n",
       "      <td>-0.397967</td>\n",
       "      <td>-1.056692</td>\n",
       "      <td>-0.398789</td>\n",
       "      <td>0.328120</td>\n",
       "      <td>-0.248694</td>\n",
       "      <td>0.306210</td>\n",
       "      <td>-0.032017</td>\n",
       "      <td>-0.484239</td>\n",
       "      <td>-1.326407</td>\n",
       "      <td>0.431623</td>\n",
       "      <td>0.635446</td>\n",
       "      <td>-0.695747</td>\n",
       "      <td>-0.733456</td>\n",
       "      <td>-0.010979</td>\n",
       "      <td>-0.012254</td>\n",
       "      <td>179.4</td>\n",
       "      <td>0</td>\n",
       "    </tr>\n",
       "    <tr>\n",
       "      <th>121453</th>\n",
       "      <td>76195.0</td>\n",
       "      <td>-0.242863</td>\n",
       "      <td>-1.233273</td>\n",
       "      <td>1.953026</td>\n",
       "      <td>-0.807789</td>\n",
       "      <td>-1.139294</td>\n",
       "      <td>-0.696013</td>\n",
       "      <td>-0.813326</td>\n",
       "      <td>-0.227073</td>\n",
       "      <td>-2.103268</td>\n",
       "      <td>1.678862</td>\n",
       "      <td>-0.566125</td>\n",
       "      <td>-1.678976</td>\n",
       "      <td>0.057177</td>\n",
       "      <td>-0.529851</td>\n",
       "      <td>1.633962</td>\n",
       "      <td>-0.949155</td>\n",
       "      <td>0.919217</td>\n",
       "      <td>0.778262</td>\n",
       "      <td>1.330513</td>\n",
       "      <td>0.270218</td>\n",
       "      <td>0.093499</td>\n",
       "      <td>0.602626</td>\n",
       "      <td>0.183318</td>\n",
       "      <td>0.366476</td>\n",
       "      <td>-0.635739</td>\n",
       "      <td>0.029602</td>\n",
       "      <td>0.017868</td>\n",
       "      <td>-0.038883</td>\n",
       "      <td>78.0</td>\n",
       "      <td>0</td>\n",
       "    </tr>\n",
       "  </tbody>\n",
       "</table>\n",
       "</div>"
      ],
      "text/plain": [
       "            Time        V1        V2        V3        V4        V5        V6  \\\n",
       "97517    66253.0 -1.960989 -0.426963  1.133922 -2.973036 -0.638268 -1.148856   \n",
       "269201  163585.0 -0.464650  1.430744 -0.371606  1.035875  0.386231 -0.991496   \n",
       "133724   80504.0 -0.924583  0.813780  1.186900  0.140816  1.364962 -1.107918   \n",
       "235344  148347.0  1.916198 -1.842805 -0.899728 -1.541882 -1.246061 -0.098173   \n",
       "121453   76195.0 -0.242863 -1.233273  1.953026 -0.807789 -1.139294 -0.696013   \n",
       "\n",
       "              V7        V8        V9       V10       V11       V12       V13  \\\n",
       "97517  -0.081164 -0.231608 -1.438248  1.691626 -0.228489 -0.971678  0.167445   \n",
       "269201  1.031202  0.187769 -0.610770 -0.182158 -1.525213 -0.740450 -1.666562   \n",
       "133724  0.944652 -0.230187 -0.368200 -1.063844 -0.770212 -1.243027 -1.257506   \n",
       "235344 -0.962337 -0.055340 -1.542236  1.554730  0.933294  0.484665  1.096460   \n",
       "121453 -0.813326 -0.227073 -2.103268  1.678862 -0.566125 -1.678976  0.057177   \n",
       "\n",
       "             V14       V15       V16       V17       V18       V19       V20  \\\n",
       "97517  -0.845680 -0.343665 -0.283023  0.134519 -0.704116 -2.253471 -0.861695   \n",
       "269201  1.094188 -0.244790 -0.966356  0.393161 -0.058685  0.824957 -0.120895   \n",
       "133724 -1.189528  0.690917  0.769712  0.234711  0.862429 -0.857359  0.036369   \n",
       "235344 -0.397967 -1.056692 -0.398789  0.328120 -0.248694  0.306210 -0.032017   \n",
       "121453 -0.529851  1.633962 -0.949155  0.919217  0.778262  1.330513  0.270218   \n",
       "\n",
       "             V21       V22       V23       V24       V25       V26       V27  \\\n",
       "97517  -0.324220  0.249626  0.465876  0.352365 -0.161494 -0.617677 -0.265149   \n",
       "269201  0.140019  0.513033 -0.198634  0.021581  0.018910 -0.373703  0.298306   \n",
       "133724 -0.065089 -0.234431 -0.454654 -0.304720  0.722478 -0.403505 -0.138963   \n",
       "235344 -0.484239 -1.326407  0.431623  0.635446 -0.695747 -0.733456 -0.010979   \n",
       "121453  0.093499  0.602626  0.183318  0.366476 -0.635739  0.029602  0.017868   \n",
       "\n",
       "             V28  Amount  Class  \n",
       "97517  -0.360966    10.0      0  \n",
       "269201  0.179358    20.9      0  \n",
       "133724 -0.129232     1.0      0  \n",
       "235344 -0.012254   179.4      0  \n",
       "121453 -0.038883    78.0      0  "
      ]
     },
     "execution_count": 7,
     "metadata": {},
     "output_type": "execute_result"
    }
   ],
   "source": [
    "df.sample(5)"
   ]
  },
  {
   "cell_type": "markdown",
   "metadata": {
    "_cell_guid": "8f7ec588-76e0-4148-9fb1-4feeb3dada12",
    "_uuid": "0023ca6d961466f0d748eb7f0c30c7da45371bbf"
   },
   "source": [
    "How balanced are the classes, i.e. how common are fraudulent transactions?"
   ]
  },
  {
   "cell_type": "code",
   "execution_count": 8,
   "metadata": {},
   "outputs": [],
   "source": [
    "def perc_value_counts(series):\n",
    "    \"\"\"\n",
    "    Returns normalized value counts as percentages, including NA values, sorted by the index.\n",
    "    \n",
    "    Input: pandas Series\n",
    "    Return: pandas Series\n",
    "    \"\"\"\n",
    "    dec = np.int64(np.ceil(np.log10(len(series)))) - 2 # Number of decimal places based on no. of samples\n",
    "    percs = series.value_counts(normalize=True, dropna=False).apply(lambda val: str(np.round(100*val, decimals=dec))+'%')\n",
    "    return percs.sort_index()"
   ]
  },
  {
   "cell_type": "code",
   "execution_count": 9,
   "metadata": {},
   "outputs": [
    {
     "data": {
      "text/plain": [
       "0    99.8273%\n",
       "1     0.1727%\n",
       "Name: Class, dtype: object"
      ]
     },
     "execution_count": 9,
     "metadata": {},
     "output_type": "execute_result"
    }
   ],
   "source": [
    "perc_value_counts(df['Class'])"
   ]
  },
  {
   "cell_type": "markdown",
   "metadata": {
    "_cell_guid": "494ab719-1616-484f-aa45-bbfe65d8551b",
    "_uuid": "02969b991d83731381b47bc52b283e2e154967a4"
   },
   "source": [
    "Only 0.17% of transactions are fraudulent."
   ]
  },
  {
   "cell_type": "markdown",
   "metadata": {},
   "source": [
    "# Train/Test Split\n",
    "<a id='3'></a>"
   ]
  },
  {
   "cell_type": "markdown",
   "metadata": {},
   "source": [
    "Before we begin preprocessing, we split off a test data set."
   ]
  },
  {
   "cell_type": "markdown",
   "metadata": {
    "_cell_guid": "c06156b9-b81e-4404-9904-5a7c5ace45bd",
    "_uuid": "da6648ea4fdbb170231cdb01a2af74cc51628226"
   },
   "source": [
    "First split the data into features and response variable:"
   ]
  },
  {
   "cell_type": "code",
   "execution_count": 10,
   "metadata": {
    "_cell_guid": "bef72ced-38e9-4ac6-9e5a-808b1d78884f",
    "_uuid": "7372fd82bc5da83aa8bb5315fde1d85688e8d6b0"
   },
   "outputs": [],
   "source": [
    "X = df.drop(labels='Class', axis=1) # Features\n",
    "y = df.loc[:,'Class'] # Response variable\n",
    "df = None"
   ]
  },
  {
   "cell_type": "markdown",
   "metadata": {
    "_cell_guid": "74100588-3a51-4fcb-a02a-3c92a6c6b32f",
    "_uuid": "fa5b1986d2ae5b4e94392336477009352c33193c"
   },
   "source": [
    "We perform a split with a **test size of 20%**. We also **stratify** the split on the response variable, which is very important to do because there are so few fraudulent transactions."
   ]
  },
  {
   "cell_type": "code",
   "execution_count": 11,
   "metadata": {
    "_cell_guid": "1e6fa3fe-6f44-4293-a66e-043e2cc78d02",
    "_uuid": "40fea6c259d8cea82ac0c09b544ac05313270ff1"
   },
   "outputs": [],
   "source": [
    "from sklearn.model_selection import train_test_split"
   ]
  },
  {
   "cell_type": "code",
   "execution_count": 12,
   "metadata": {
    "_cell_guid": "ef4278b6-9789-4fdb-befc-412bfc427b4f",
    "_uuid": "6bcc0773be9d933ba0a7f63d90214fd33637d655"
   },
   "outputs": [],
   "source": [
    "random_state = 1 # Just to make the results deterministic\n",
    "X_train, X_test, y_train, y_test = train_test_split(X, y, test_size=0.2, random_state=random_state, stratify=y)\n",
    "X = None\n",
    "y = None"
   ]
  },
  {
   "cell_type": "code",
   "execution_count": 13,
   "metadata": {},
   "outputs": [],
   "source": [
    "# Prevent view warnings\n",
    "X_train.is_copy = False\n",
    "X_test.is_copy = False"
   ]
  },
  {
   "cell_type": "markdown",
   "metadata": {},
   "source": [
    "# Exploratory Data Analysis\n",
    "<a id='4'></a>"
   ]
  },
  {
   "cell_type": "markdown",
   "metadata": {},
   "source": [
    "We conduct EDA only on the training set, and leave the test set unknown."
   ]
  },
  {
   "cell_type": "markdown",
   "metadata": {},
   "source": [
    "## Time\n",
    "<a id='4.1'></a>"
   ]
  },
  {
   "cell_type": "markdown",
   "metadata": {},
   "source": [
    "Look at summary statistics:"
   ]
  },
  {
   "cell_type": "code",
   "execution_count": 14,
   "metadata": {},
   "outputs": [
    {
     "data": {
      "text/plain": [
       "count    227845.000000\n",
       "mean      94707.617670\n",
       "std       47523.204111\n",
       "min           0.000000\n",
       "25%       54086.000000\n",
       "50%       84609.000000\n",
       "75%      139261.000000\n",
       "max      172792.000000\n",
       "Name: Time, dtype: float64"
      ]
     },
     "execution_count": 14,
     "metadata": {},
     "output_type": "execute_result"
    }
   ],
   "source": [
    "X_train['Time'].describe()"
   ]
  },
  {
   "cell_type": "markdown",
   "metadata": {},
   "source": [
    "Let's convert the time from seconds to hours to ease the interpretation."
   ]
  },
  {
   "cell_type": "code",
   "execution_count": 15,
   "metadata": {},
   "outputs": [],
   "source": [
    "X_train.loc[:,'Time'] = X_train.Time / 3600\n",
    "X_test.loc[:,'Time'] = X_test.Time / 3600"
   ]
  },
  {
   "cell_type": "markdown",
   "metadata": {},
   "source": [
    "What is the time of the last transaction, in days?"
   ]
  },
  {
   "cell_type": "code",
   "execution_count": 16,
   "metadata": {},
   "outputs": [
    {
     "data": {
      "text/plain": [
       "1.9999074074074075"
      ]
     },
     "execution_count": 16,
     "metadata": {},
     "output_type": "execute_result"
    }
   ],
   "source": [
    "X_train['Time'].max()/24"
   ]
  },
  {
   "cell_type": "markdown",
   "metadata": {},
   "source": [
    "So the transactions indeed occur over a two-day period."
   ]
  },
  {
   "cell_type": "markdown",
   "metadata": {},
   "source": [
    "Histogram of transaction times, with one bin per hour:"
   ]
  },
  {
   "cell_type": "code",
   "execution_count": 17,
   "metadata": {},
   "outputs": [
    {
     "data": {
      "text/plain": [
       "Text(0.5,1,'Transaction Times')"
      ]
     },
     "execution_count": 17,
     "metadata": {},
     "output_type": "execute_result"
    },
    {
     "data": {
      "image/png": "[encoded data removed]",
      "text/plain": [
       "<matplotlib.figure.Figure at 0x20fc3268550>"
      ]
     },
     "metadata": {},
     "output_type": "display_data"
    }
   ],
   "source": [
    "plt.figure(figsize=(12,4), dpi=80)\n",
    "sns.distplot(X_train['Time'], bins=48, kde=False)\n",
    "plt.xlim([0,48])\n",
    "plt.xticks(np.arange(0,54,6))\n",
    "plt.xlabel('Time After First Transaction (hr)')\n",
    "plt.ylabel('Count')\n",
    "plt.title('Transaction Times')"
   ]
  },
  {
   "cell_type": "markdown",
   "metadata": {},
   "source": [
    "It looks like there are two lulls in credit card transactions during nighttime on each day."
   ]
  },
  {
   "cell_type": "markdown",
   "metadata": {},
   "source": [
    "## Amount\n",
    "<a id='4.2'></a>"
   ]
  },
  {
   "cell_type": "markdown",
   "metadata": {},
   "source": [
    "Summary statistics:"
   ]
  },
  {
   "cell_type": "code",
   "execution_count": 18,
   "metadata": {},
   "outputs": [
    {
     "data": {
      "text/plain": [
       "count    227845.000000\n",
       "mean         88.709296\n",
       "std         250.026305\n",
       "min           0.000000\n",
       "25%           5.550000\n",
       "50%          22.000000\n",
       "75%          77.890000\n",
       "max       25691.160000\n",
       "Name: Amount, dtype: float64"
      ]
     },
     "execution_count": 18,
     "metadata": {},
     "output_type": "execute_result"
    }
   ],
   "source": [
    "X_train['Amount'].describe()"
   ]
  },
  {
   "cell_type": "markdown",
   "metadata": {},
   "source": [
    "Comparing the different quantiles, it looks like the amounts are very right-skewed. We'll verify this, starting with a histogram of the transaction amounts:"
   ]
  },
  {
   "cell_type": "code",
   "execution_count": 19,
   "metadata": {},
   "outputs": [
    {
     "data": {
      "text/plain": [
       "Text(0.5,1,'Transaction Amounts')"
      ]
     },
     "execution_count": 19,
     "metadata": {},
     "output_type": "execute_result"
    },
    {
     "data": {
      "image/png": "[encoded data removed]",
      "text/plain": [
       "<matplotlib.figure.Figure at 0x20fc32682b0>"
      ]
     },
     "metadata": {},
     "output_type": "display_data"
    }
   ],
   "source": [
    "plt.figure(figsize=(12,4), dpi=80)\n",
    "sns.distplot(X_train['Amount'], bins=300, kde=False)\n",
    "plt.ylabel('Count')\n",
    "plt.title('Transaction Amounts')"
   ]
  },
  {
   "cell_type": "markdown",
   "metadata": {},
   "source": [
    "The histogram is hard to read due to some outliers we can't see. A boxplot will show the outliers:"
   ]
  },
  {
   "cell_type": "code",
   "execution_count": 20,
   "metadata": {},
   "outputs": [
    {
     "data": {
      "text/plain": [
       "Text(0.5,1,'Transaction Amounts')"
      ]
     },
     "execution_count": 20,
     "metadata": {},
     "output_type": "execute_result"
    },
    {
     "data": {
      "image/png": "[encoded data removed]",
      "text/plain": [
       "<matplotlib.figure.Figure at 0x20fc32680f0>"
      ]
     },
     "metadata": {},
     "output_type": "display_data"
    }
   ],
   "source": [
    "plt.figure(figsize=(12,4), dpi=80)\n",
    "sns.boxplot(X_train['Amount'])\n",
    "plt.title('Transaction Amounts')"
   ]
  },
  {
   "cell_type": "markdown",
   "metadata": {},
   "source": [
    "We can see there are no outliers on the left and many outliers on the right. So the amounts certainly seem right-skewed. We can calculate the skewness to be sure:"
   ]
  },
  {
   "cell_type": "code",
   "execution_count": 21,
   "metadata": {},
   "outputs": [
    {
     "data": {
      "text/plain": [
       "16.910303546516744"
      ]
     },
     "execution_count": 21,
     "metadata": {},
     "output_type": "execute_result"
    }
   ],
   "source": [
    "X_train['Amount'].skew()"
   ]
  },
  {
   "cell_type": "markdown",
   "metadata": {},
   "source": [
    "That's a strong right skew. Let's use a **power transform** to bring the transaction amounts closer to a normal distribution. We'll use the [Box-Cox transform in SciPy](https://docs.scipy.org/doc/scipy/reference/generated/scipy.stats.boxcox.html), but some of the amounts are zero (min = 0 above), so we need to shift the amounts first to make them positive. We'll shift by a very small amount, just $10^{-9}$."
   ]
  },
  {
   "cell_type": "code",
   "execution_count": 22,
   "metadata": {},
   "outputs": [],
   "source": [
    "X_train.loc[:,'Amount'] = X_train['Amount'] + 1e-9 # Shift all amounts by 1e-9"
   ]
  },
  {
   "cell_type": "markdown",
   "metadata": {},
   "source": [
    "Perform the Box-Cox transform:"
   ]
  },
  {
   "cell_type": "code",
   "execution_count": 23,
   "metadata": {},
   "outputs": [],
   "source": [
    "X_train.loc[:,'Amount'], maxlog, (min_ci, max_ci) = sp.stats.boxcox(X_train['Amount'], alpha=0.01)"
   ]
  },
  {
   "cell_type": "markdown",
   "metadata": {},
   "source": [
    "The maximum likelihood estimate of $\\lambda$ in the Box-Cox transform:"
   ]
  },
  {
   "cell_type": "code",
   "execution_count": 24,
   "metadata": {},
   "outputs": [
    {
     "data": {
      "text/plain": [
       "0.13436569191158662"
      ]
     },
     "execution_count": 24,
     "metadata": {},
     "output_type": "execute_result"
    }
   ],
   "source": [
    "maxlog"
   ]
  },
  {
   "cell_type": "markdown",
   "metadata": {},
   "source": [
    "The 99% confidence interval for $\\lambda$:"
   ]
  },
  {
   "cell_type": "code",
   "execution_count": 25,
   "metadata": {},
   "outputs": [
    {
     "data": {
      "text/plain": [
       "(0.13291390124729957, 0.1358266545085391)"
      ]
     },
     "execution_count": 25,
     "metadata": {},
     "output_type": "execute_result"
    }
   ],
   "source": [
    "(min_ci, max_ci)"
   ]
  },
  {
   "cell_type": "markdown",
   "metadata": {},
   "source": [
    "Plot the newly transformed amounts:"
   ]
  },
  {
   "cell_type": "code",
   "execution_count": 26,
   "metadata": {},
   "outputs": [
    {
     "data": {
      "text/plain": [
       "Text(0.5,1,'Transaction Amounts (Box-Cox Transformed)')"
      ]
     },
     "execution_count": 26,
     "metadata": {},
     "output_type": "execute_result"
    },
    {
     "data": {
      "image/png": "[encoded data removed]",
      "text/plain": [
       "<matplotlib.figure.Figure at 0x20fc3f9ad68>"
      ]
     },
     "metadata": {},
     "output_type": "display_data"
    }
   ],
   "source": [
    "plt.figure(figsize=(12,4), dpi=80)\n",
    "sns.distplot(X_train['Amount'], kde=False)\n",
    "plt.xlabel('Transformed Amount')\n",
    "plt.ylabel('Count')\n",
    "plt.title('Transaction Amounts (Box-Cox Transformed)')"
   ]
  },
  {
   "cell_type": "markdown",
   "metadata": {},
   "source": [
    "The distribution appears to be bimodal, suggesting a divide between \"small\" and \"large\" purchases."
   ]
  },
  {
   "cell_type": "markdown",
   "metadata": {},
   "source": [
    "Descriptive stats of the transformed amounts:"
   ]
  },
  {
   "cell_type": "code",
   "execution_count": 27,
   "metadata": {},
   "outputs": [
    {
     "data": {
      "text/plain": [
       "count    227845.000000\n",
       "mean          3.985515\n",
       "std           2.972505\n",
       "min          -6.982733\n",
       "25%           1.927181\n",
       "50%           3.831861\n",
       "75%           5.919328\n",
       "max          21.680566\n",
       "Name: Amount, dtype: float64"
      ]
     },
     "execution_count": 27,
     "metadata": {},
     "output_type": "execute_result"
    }
   ],
   "source": [
    "X_train['Amount'].describe()"
   ]
  },
  {
   "cell_type": "markdown",
   "metadata": {},
   "source": [
    "Much nicer! We'll fully standardize the data later (transform to zero mean and unit variance). But first we need to perform Box-Cox on the test data amounts as well, using the $\\lambda$ value estimated on the training data."
   ]
  },
  {
   "cell_type": "code",
   "execution_count": 28,
   "metadata": {},
   "outputs": [],
   "source": [
    "X_test.loc[:,'Amount'] = X_test['Amount'] + 1e-9 # Shift all amounts by 1e-9"
   ]
  },
  {
   "cell_type": "code",
   "execution_count": 29,
   "metadata": {},
   "outputs": [],
   "source": [
    "X_test.loc[:,'Amount'] = sp.stats.boxcox(X_test['Amount'], lmbda=maxlog)"
   ]
  },
  {
   "cell_type": "markdown",
   "metadata": {},
   "source": [
    "## Time vs. Amount\n",
    "<a id='4.3'></a>"
   ]
  },
  {
   "cell_type": "markdown",
   "metadata": {},
   "source": [
    "Is there a relationship between the transaction amounts and the time of day? Let's explore this question with a joint histogram using hexagonal bins. For this plot, we convert each transaction time to the hour of the day on which it occurred."
   ]
  },
  {
   "cell_type": "code",
   "execution_count": 30,
   "metadata": {},
   "outputs": [
    {
     "data": {
      "text/plain": [
       "<seaborn.axisgrid.JointGrid at 0x20fc47ebe10>"
      ]
     },
     "execution_count": 30,
     "metadata": {},
     "output_type": "execute_result"
    },
    {
     "data": {
      "image/png": "[encoded data removed]",
      "text/plain": [
       "<matplotlib.figure.Figure at 0x20fc47ebda0>"
      ]
     },
     "metadata": {},
     "output_type": "display_data"
    }
   ],
   "source": [
    "sns.jointplot(X_train['Time'].apply(lambda x: x % 24), X_train['Amount'], kind='hex', stat_func=None, size=12, xlim=(0,24), ylim=(-7.5,14)).set_axis_labels('Time of Day (hr)','Transformed Amount')\n",
    "#plt.title('Transaction Amounts vs. Time of Day')"
   ]
  },
  {
   "cell_type": "markdown",
   "metadata": {},
   "source": [
    "The transaction amounts appear to be similarly distributed throughout the daytime hours. However, in the earliest hours of the day, around 5-7 AM, amounts around 2.5 are the most common (recall this is a Box-Cox transformed value). Perhaps everyone's buying their morning coffee?"
   ]
  },
  {
   "cell_type": "markdown",
   "metadata": {},
   "source": [
    "## V1-V28\n",
    "<a id='4.4'></a>"
   ]
  },
  {
   "cell_type": "markdown",
   "metadata": {},
   "source": [
    "Let's compare the descriptive stats of the PCA variables `V1-V28`."
   ]
  },
  {
   "cell_type": "code",
   "execution_count": 31,
   "metadata": {},
   "outputs": [],
   "source": [
    "pca_vars = ['V%i' % k for k in range(1,29)]"
   ]
  },
  {
   "cell_type": "markdown",
   "metadata": {},
   "source": [
    "Full table of descriptive stats:"
   ]
  },
  {
   "cell_type": "code",
   "execution_count": 32,
   "metadata": {},
   "outputs": [
    {
     "data": {
      "text/html": [
       "<div>\n",
       "<style scoped>\n",
       "    .dataframe tbody tr th:only-of-type {\n",
       "        vertical-align: middle;\n",
       "    }\n",
       "\n",
       "    .dataframe tbody tr th {\n",
       "        vertical-align: top;\n",
       "    }\n",
       "\n",
       "    .dataframe thead th {\n",
       "        text-align: right;\n",
       "    }\n",
       "</style>\n",
       "<table border=\"1\" class=\"dataframe\">\n",
       "  <thead>\n",
       "    <tr style=\"text-align: right;\">\n",
       "      <th></th>\n",
       "      <th>V1</th>\n",
       "      <th>V2</th>\n",
       "      <th>V3</th>\n",
       "      <th>V4</th>\n",
       "      <th>V5</th>\n",
       "      <th>V6</th>\n",
       "      <th>V7</th>\n",
       "      <th>V8</th>\n",
       "      <th>V9</th>\n",
       "      <th>V10</th>\n",
       "      <th>V11</th>\n",
       "      <th>V12</th>\n",
       "      <th>V13</th>\n",
       "      <th>V14</th>\n",
       "      <th>V15</th>\n",
       "      <th>V16</th>\n",
       "      <th>V17</th>\n",
       "      <th>V18</th>\n",
       "      <th>V19</th>\n",
       "      <th>V20</th>\n",
       "      <th>V21</th>\n",
       "      <th>V22</th>\n",
       "      <th>V23</th>\n",
       "      <th>V24</th>\n",
       "      <th>V25</th>\n",
       "      <th>V26</th>\n",
       "      <th>V27</th>\n",
       "      <th>V28</th>\n",
       "    </tr>\n",
       "  </thead>\n",
       "  <tbody>\n",
       "    <tr>\n",
       "      <th>count</th>\n",
       "      <td>227845.000000</td>\n",
       "      <td>227845.000000</td>\n",
       "      <td>227845.000000</td>\n",
       "      <td>227845.000000</td>\n",
       "      <td>227845.000000</td>\n",
       "      <td>227845.000000</td>\n",
       "      <td>227845.000000</td>\n",
       "      <td>227845.000000</td>\n",
       "      <td>227845.000000</td>\n",
       "      <td>227845.000000</td>\n",
       "      <td>227845.000000</td>\n",
       "      <td>227845.000000</td>\n",
       "      <td>227845.000000</td>\n",
       "      <td>227845.000000</td>\n",
       "      <td>227845.000000</td>\n",
       "      <td>227845.000000</td>\n",
       "      <td>227845.000000</td>\n",
       "      <td>227845.000000</td>\n",
       "      <td>227845.000000</td>\n",
       "      <td>227845.000000</td>\n",
       "      <td>227845.000000</td>\n",
       "      <td>227845.000000</td>\n",
       "      <td>227845.000000</td>\n",
       "      <td>227845.000000</td>\n",
       "      <td>227845.000000</td>\n",
       "      <td>227845.000000</td>\n",
       "      <td>227845.000000</td>\n",
       "      <td>227845.000000</td>\n",
       "    </tr>\n",
       "    <tr>\n",
       "      <th>mean</th>\n",
       "      <td>-0.000713</td>\n",
       "      <td>-0.001034</td>\n",
       "      <td>0.002557</td>\n",
       "      <td>0.003839</td>\n",
       "      <td>-0.002857</td>\n",
       "      <td>0.002085</td>\n",
       "      <td>0.000022</td>\n",
       "      <td>0.000093</td>\n",
       "      <td>0.000243</td>\n",
       "      <td>-0.000363</td>\n",
       "      <td>0.000651</td>\n",
       "      <td>-0.000834</td>\n",
       "      <td>-0.000976</td>\n",
       "      <td>0.002291</td>\n",
       "      <td>-0.000595</td>\n",
       "      <td>-0.000499</td>\n",
       "      <td>0.000587</td>\n",
       "      <td>0.001448</td>\n",
       "      <td>-0.000146</td>\n",
       "      <td>-0.000796</td>\n",
       "      <td>0.000023</td>\n",
       "      <td>0.000897</td>\n",
       "      <td>0.000765</td>\n",
       "      <td>-0.000380</td>\n",
       "      <td>0.000136</td>\n",
       "      <td>-0.000301</td>\n",
       "      <td>-0.000046</td>\n",
       "      <td>-0.000027</td>\n",
       "    </tr>\n",
       "    <tr>\n",
       "      <th>std</th>\n",
       "      <td>1.952399</td>\n",
       "      <td>1.636689</td>\n",
       "      <td>1.514288</td>\n",
       "      <td>1.417086</td>\n",
       "      <td>1.383532</td>\n",
       "      <td>1.333769</td>\n",
       "      <td>1.240239</td>\n",
       "      <td>1.200348</td>\n",
       "      <td>1.096453</td>\n",
       "      <td>1.082580</td>\n",
       "      <td>1.020932</td>\n",
       "      <td>1.000266</td>\n",
       "      <td>0.996678</td>\n",
       "      <td>0.957485</td>\n",
       "      <td>0.916946</td>\n",
       "      <td>0.876978</td>\n",
       "      <td>0.846748</td>\n",
       "      <td>0.838169</td>\n",
       "      <td>0.815140</td>\n",
       "      <td>0.767956</td>\n",
       "      <td>0.733325</td>\n",
       "      <td>0.725353</td>\n",
       "      <td>0.616772</td>\n",
       "      <td>0.605741</td>\n",
       "      <td>0.522184</td>\n",
       "      <td>0.482187</td>\n",
       "      <td>0.405182</td>\n",
       "      <td>0.331048</td>\n",
       "    </tr>\n",
       "    <tr>\n",
       "      <th>min</th>\n",
       "      <td>-56.407510</td>\n",
       "      <td>-72.715728</td>\n",
       "      <td>-48.325589</td>\n",
       "      <td>-5.683171</td>\n",
       "      <td>-113.743307</td>\n",
       "      <td>-26.160506</td>\n",
       "      <td>-43.557242</td>\n",
       "      <td>-73.216718</td>\n",
       "      <td>-13.434066</td>\n",
       "      <td>-24.588262</td>\n",
       "      <td>-4.797473</td>\n",
       "      <td>-18.431131</td>\n",
       "      <td>-5.791881</td>\n",
       "      <td>-19.214325</td>\n",
       "      <td>-4.498945</td>\n",
       "      <td>-14.129855</td>\n",
       "      <td>-25.162799</td>\n",
       "      <td>-9.335193</td>\n",
       "      <td>-7.213527</td>\n",
       "      <td>-54.497720</td>\n",
       "      <td>-34.830382</td>\n",
       "      <td>-10.933144</td>\n",
       "      <td>-36.666000</td>\n",
       "      <td>-2.836627</td>\n",
       "      <td>-8.696627</td>\n",
       "      <td>-2.534330</td>\n",
       "      <td>-22.565679</td>\n",
       "      <td>-15.430084</td>\n",
       "    </tr>\n",
       "    <tr>\n",
       "      <th>25%</th>\n",
       "      <td>-0.922830</td>\n",
       "      <td>-0.599928</td>\n",
       "      <td>-0.887861</td>\n",
       "      <td>-0.844052</td>\n",
       "      <td>-0.693702</td>\n",
       "      <td>-0.766195</td>\n",
       "      <td>-0.555377</td>\n",
       "      <td>-0.208302</td>\n",
       "      <td>-0.642006</td>\n",
       "      <td>-0.535079</td>\n",
       "      <td>-0.761255</td>\n",
       "      <td>-0.406597</td>\n",
       "      <td>-0.650225</td>\n",
       "      <td>-0.423563</td>\n",
       "      <td>-0.584357</td>\n",
       "      <td>-0.469513</td>\n",
       "      <td>-0.484153</td>\n",
       "      <td>-0.497660</td>\n",
       "      <td>-0.456946</td>\n",
       "      <td>-0.212129</td>\n",
       "      <td>-0.227952</td>\n",
       "      <td>-0.541079</td>\n",
       "      <td>-0.162242</td>\n",
       "      <td>-0.354208</td>\n",
       "      <td>-0.317488</td>\n",
       "      <td>-0.327576</td>\n",
       "      <td>-0.070767</td>\n",
       "      <td>-0.053013</td>\n",
       "    </tr>\n",
       "    <tr>\n",
       "      <th>50%</th>\n",
       "      <td>0.016743</td>\n",
       "      <td>0.064370</td>\n",
       "      <td>0.180865</td>\n",
       "      <td>-0.016750</td>\n",
       "      <td>-0.055388</td>\n",
       "      <td>-0.271706</td>\n",
       "      <td>0.039185</td>\n",
       "      <td>0.022594</td>\n",
       "      <td>-0.051224</td>\n",
       "      <td>-0.091877</td>\n",
       "      <td>-0.032213</td>\n",
       "      <td>0.141227</td>\n",
       "      <td>-0.014920</td>\n",
       "      <td>0.051939</td>\n",
       "      <td>0.047181</td>\n",
       "      <td>0.066080</td>\n",
       "      <td>-0.065260</td>\n",
       "      <td>-0.001867</td>\n",
       "      <td>0.004371</td>\n",
       "      <td>-0.062809</td>\n",
       "      <td>-0.029095</td>\n",
       "      <td>0.007661</td>\n",
       "      <td>-0.011184</td>\n",
       "      <td>0.040977</td>\n",
       "      <td>0.017081</td>\n",
       "      <td>-0.052599</td>\n",
       "      <td>0.001373</td>\n",
       "      <td>0.011255</td>\n",
       "    </tr>\n",
       "    <tr>\n",
       "      <th>75%</th>\n",
       "      <td>1.315147</td>\n",
       "      <td>0.801738</td>\n",
       "      <td>1.027592</td>\n",
       "      <td>0.746907</td>\n",
       "      <td>0.611056</td>\n",
       "      <td>0.401204</td>\n",
       "      <td>0.569307</td>\n",
       "      <td>0.328079</td>\n",
       "      <td>0.596563</td>\n",
       "      <td>0.455577</td>\n",
       "      <td>0.740921</td>\n",
       "      <td>0.617925</td>\n",
       "      <td>0.663521</td>\n",
       "      <td>0.495181</td>\n",
       "      <td>0.649788</td>\n",
       "      <td>0.522836</td>\n",
       "      <td>0.400067</td>\n",
       "      <td>0.501554</td>\n",
       "      <td>0.459695</td>\n",
       "      <td>0.132873</td>\n",
       "      <td>0.186678</td>\n",
       "      <td>0.529342</td>\n",
       "      <td>0.147825</td>\n",
       "      <td>0.438432</td>\n",
       "      <td>0.351400</td>\n",
       "      <td>0.240554</td>\n",
       "      <td>0.091028</td>\n",
       "      <td>0.078341</td>\n",
       "    </tr>\n",
       "    <tr>\n",
       "      <th>max</th>\n",
       "      <td>2.451888</td>\n",
       "      <td>22.057729</td>\n",
       "      <td>9.382558</td>\n",
       "      <td>16.715537</td>\n",
       "      <td>34.801666</td>\n",
       "      <td>73.301626</td>\n",
       "      <td>120.589494</td>\n",
       "      <td>20.007208</td>\n",
       "      <td>15.594995</td>\n",
       "      <td>23.745136</td>\n",
       "      <td>12.018913</td>\n",
       "      <td>7.848392</td>\n",
       "      <td>7.126883</td>\n",
       "      <td>10.526766</td>\n",
       "      <td>8.877742</td>\n",
       "      <td>17.315112</td>\n",
       "      <td>9.207059</td>\n",
       "      <td>5.041069</td>\n",
       "      <td>5.591971</td>\n",
       "      <td>39.420904</td>\n",
       "      <td>27.202839</td>\n",
       "      <td>10.503090</td>\n",
       "      <td>22.083545</td>\n",
       "      <td>4.584549</td>\n",
       "      <td>7.519589</td>\n",
       "      <td>3.517346</td>\n",
       "      <td>31.612198</td>\n",
       "      <td>33.847808</td>\n",
       "    </tr>\n",
       "  </tbody>\n",
       "</table>\n",
       "</div>"
      ],
      "text/plain": [
       "                  V1             V2             V3             V4  \\\n",
       "count  227845.000000  227845.000000  227845.000000  227845.000000   \n",
       "mean       -0.000713      -0.001034       0.002557       0.003839   \n",
       "std         1.952399       1.636689       1.514288       1.417086   \n",
       "min       -56.407510     -72.715728     -48.325589      -5.683171   \n",
       "25%        -0.922830      -0.599928      -0.887861      -0.844052   \n",
       "50%         0.016743       0.064370       0.180865      -0.016750   \n",
       "75%         1.315147       0.801738       1.027592       0.746907   \n",
       "max         2.451888      22.057729       9.382558      16.715537   \n",
       "\n",
       "                  V5             V6             V7             V8  \\\n",
       "count  227845.000000  227845.000000  227845.000000  227845.000000   \n",
       "mean       -0.002857       0.002085       0.000022       0.000093   \n",
       "std         1.383532       1.333769       1.240239       1.200348   \n",
       "min      -113.743307     -26.160506     -43.557242     -73.216718   \n",
       "25%        -0.693702      -0.766195      -0.555377      -0.208302   \n",
       "50%        -0.055388      -0.271706       0.039185       0.022594   \n",
       "75%         0.611056       0.401204       0.569307       0.328079   \n",
       "max        34.801666      73.301626     120.589494      20.007208   \n",
       "\n",
       "                  V9            V10            V11            V12  \\\n",
       "count  227845.000000  227845.000000  227845.000000  227845.000000   \n",
       "mean        0.000243      -0.000363       0.000651      -0.000834   \n",
       "std         1.096453       1.082580       1.020932       1.000266   \n",
       "min       -13.434066     -24.588262      -4.797473     -18.431131   \n",
       "25%        -0.642006      -0.535079      -0.761255      -0.406597   \n",
       "50%        -0.051224      -0.091877      -0.032213       0.141227   \n",
       "75%         0.596563       0.455577       0.740921       0.617925   \n",
       "max        15.594995      23.745136      12.018913       7.848392   \n",
       "\n",
       "                 V13            V14            V15            V16  \\\n",
       "count  227845.000000  227845.000000  227845.000000  227845.000000   \n",
       "mean       -0.000976       0.002291      -0.000595      -0.000499   \n",
       "std         0.996678       0.957485       0.916946       0.876978   \n",
       "min        -5.791881     -19.214325      -4.498945     -14.129855   \n",
       "25%        -0.650225      -0.423563      -0.584357      -0.469513   \n",
       "50%        -0.014920       0.051939       0.047181       0.066080   \n",
       "75%         0.663521       0.495181       0.649788       0.522836   \n",
       "max         7.126883      10.526766       8.877742      17.315112   \n",
       "\n",
       "                 V17            V18            V19            V20  \\\n",
       "count  227845.000000  227845.000000  227845.000000  227845.000000   \n",
       "mean        0.000587       0.001448      -0.000146      -0.000796   \n",
       "std         0.846748       0.838169       0.815140       0.767956   \n",
       "min       -25.162799      -9.335193      -7.213527     -54.497720   \n",
       "25%        -0.484153      -0.497660      -0.456946      -0.212129   \n",
       "50%        -0.065260      -0.001867       0.004371      -0.062809   \n",
       "75%         0.400067       0.501554       0.459695       0.132873   \n",
       "max         9.207059       5.041069       5.591971      39.420904   \n",
       "\n",
       "                 V21            V22            V23            V24  \\\n",
       "count  227845.000000  227845.000000  227845.000000  227845.000000   \n",
       "mean        0.000023       0.000897       0.000765      -0.000380   \n",
       "std         0.733325       0.725353       0.616772       0.605741   \n",
       "min       -34.830382     -10.933144     -36.666000      -2.836627   \n",
       "25%        -0.227952      -0.541079      -0.162242      -0.354208   \n",
       "50%        -0.029095       0.007661      -0.011184       0.040977   \n",
       "75%         0.186678       0.529342       0.147825       0.438432   \n",
       "max        27.202839      10.503090      22.083545       4.584549   \n",
       "\n",
       "                 V25            V26            V27            V28  \n",
       "count  227845.000000  227845.000000  227845.000000  227845.000000  \n",
       "mean        0.000136      -0.000301      -0.000046      -0.000027  \n",
       "std         0.522184       0.482187       0.405182       0.331048  \n",
       "min        -8.696627      -2.534330     -22.565679     -15.430084  \n",
       "25%        -0.317488      -0.327576      -0.070767      -0.053013  \n",
       "50%         0.017081      -0.052599       0.001373       0.011255  \n",
       "75%         0.351400       0.240554       0.091028       0.078341  \n",
       "max         7.519589       3.517346      31.612198      33.847808  "
      ]
     },
     "execution_count": 32,
     "metadata": {},
     "output_type": "execute_result"
    }
   ],
   "source": [
    "X_train[pca_vars].describe()"
   ]
  },
  {
   "cell_type": "markdown",
   "metadata": {},
   "source": [
    "It's difficult to interpret this table, so let's make some visualizations. We'll start by plotting the means:"
   ]
  },
  {
   "cell_type": "code",
   "execution_count": 33,
   "metadata": {},
   "outputs": [
    {
     "data": {
      "text/plain": [
       "Text(0.5,1,'V1-V28 Means')"
      ]
     },
     "execution_count": 33,
     "metadata": {},
     "output_type": "execute_result"
    },
    {
     "data": {
      "image/png": "[encoded data removed]",
      "text/plain": [
       "<matplotlib.figure.Figure at 0x20fc37108d0>"
      ]
     },
     "metadata": {},
     "output_type": "display_data"
    }
   ],
   "source": [
    "plt.figure(figsize=(12,4), dpi=80)\n",
    "sns.barplot(x=pca_vars, y=X_train[pca_vars].mean(), color='darkblue')\n",
    "plt.xlabel('Column')\n",
    "plt.ylabel('Mean')\n",
    "plt.title('V1-V28 Means')"
   ]
  },
  {
   "cell_type": "markdown",
   "metadata": {},
   "source": [
    "All of `V1-V28` have approximately zero mean."
   ]
  },
  {
   "cell_type": "markdown",
   "metadata": {},
   "source": [
    "Now plot the standard deviations:"
   ]
  },
  {
   "cell_type": "code",
   "execution_count": 34,
   "metadata": {},
   "outputs": [
    {
     "data": {
      "text/plain": [
       "Text(0.5,1,'V1-V28 Standard Deviations')"
      ]
     },
     "execution_count": 34,
     "metadata": {},
     "output_type": "execute_result"
    },
    {
     "data": {
      "image/png": "[encoded data removed]",
      "text/plain": [
       "<matplotlib.figure.Figure at 0x20fc37bea90>"
      ]
     },
     "metadata": {},
     "output_type": "display_data"
    }
   ],
   "source": [
    "plt.figure(figsize=(12,4), dpi=80)\n",
    "sns.barplot(x=pca_vars, y=X_train[pca_vars].std(), color='darkred')\n",
    "plt.xlabel('Column')\n",
    "plt.ylabel('Standard Deviation')\n",
    "plt.title('V1-V28 Standard Deviations')"
   ]
  },
  {
   "cell_type": "markdown",
   "metadata": {},
   "source": [
    "The PCA variables have roughly unit variance, but as low as ~0.3 and as high as ~1.9."
   ]
  },
  {
   "cell_type": "markdown",
   "metadata": {},
   "source": [
    "Plot the skewnesses:"
   ]
  },
  {
   "cell_type": "code",
   "execution_count": 35,
   "metadata": {},
   "outputs": [
    {
     "data": {
      "text/plain": [
       "Text(0.5,1,'V1-V28 Skewnesses')"
      ]
     },
     "execution_count": 35,
     "metadata": {},
     "output_type": "execute_result"
    },
    {
     "data": {
      "image/png": "[encoded data removed]",
      "text/plain": [
       "<matplotlib.figure.Figure at 0x20fc3c96ac8>"
      ]
     },
     "metadata": {},
     "output_type": "display_data"
    }
   ],
   "source": [
    "plt.figure(figsize=(12,4), dpi=80)\n",
    "sns.barplot(x=pca_vars, y=X_train[pca_vars].skew(), color='darkgreen')\n",
    "plt.xlabel('Column')\n",
    "plt.ylabel('Skewness')\n",
    "plt.title('V1-V28 Skewnesses')"
   ]
  },
  {
   "cell_type": "markdown",
   "metadata": {},
   "source": [
    "A few of the PCA variables are significantly skewed. Let's plot a histogram of one of the particularly skewed variables, `V8`, to see the distribution in detail."
   ]
  },
  {
   "cell_type": "code",
   "execution_count": 36,
   "metadata": {},
   "outputs": [
    {
     "data": {
      "text/plain": [
       "Text(0.5,1,'V8')"
      ]
     },
     "execution_count": 36,
     "metadata": {},
     "output_type": "execute_result"
    },
    {
     "data": {
      "image/png": "[encoded data removed]",
      "text/plain": [
       "<matplotlib.figure.Figure at 0x20fc3723828>"
      ]
     },
     "metadata": {},
     "output_type": "display_data"
    }
   ],
   "source": [
    "plt.figure(figsize=(12,4), dpi=80)\n",
    "sns.distplot(X_train['V8'], bins=300, kde=False)\n",
    "plt.ylabel('Count')\n",
    "plt.title('V8')"
   ]
  },
  {
   "cell_type": "markdown",
   "metadata": {},
   "source": [
    "The histogram doesn't show us outliers. Let's try a boxplot:"
   ]
  },
  {
   "cell_type": "code",
   "execution_count": 37,
   "metadata": {},
   "outputs": [
    {
     "data": {
      "text/plain": [
       "Text(0.5,1,'V8')"
      ]
     },
     "execution_count": 37,
     "metadata": {},
     "output_type": "execute_result"
    },
    {
     "data": {
      "image/png": "[encoded data removed]",
      "text/plain": [
       "<matplotlib.figure.Figure at 0x20fc371c8d0>"
      ]
     },
     "metadata": {},
     "output_type": "display_data"
    }
   ],
   "source": [
    "plt.figure(figsize=(12,4), dpi=80)\n",
    "sns.boxplot(X_train['V8'])\n",
    "plt.title('V8')"
   ]
  },
  {
   "cell_type": "markdown",
   "metadata": {},
   "source": [
    "The boxplot is also hard to read due to the large number of outliers, which indicates high kurtosis in `V8`. This motivates us to plot the kurtoses of the PCA variables. The kurtosis method employed in pandas is Fisher’s definition, for which the standard normal distribution has kurtosis 0."
   ]
  },
  {
   "cell_type": "markdown",
   "metadata": {},
   "source": [
    "Note the log scale in the plot below:"
   ]
  },
  {
   "cell_type": "code",
   "execution_count": 38,
   "metadata": {},
   "outputs": [
    {
     "data": {
      "text/plain": [
       "Text(0.5,1,'V1-V28 Kurtoses')"
      ]
     },
     "execution_count": 38,
     "metadata": {},
     "output_type": "execute_result"
    },
    {
     "name": "stderr",
     "output_type": "stream",
     "text": [
      "C:\\Users\\Joe\\Anaconda3\\lib\\site-packages\\matplotlib\\scale.py:111: RuntimeWarning: invalid value encountered in less_equal\n",
      "  out[a <= 0] = -1000\n"
     ]
    },
    {
     "data": {
      "image/png": "[encoded data removed]",
      "text/plain": [
       "<matplotlib.figure.Figure at 0x20fc7191668>"
      ]
     },
     "metadata": {},
     "output_type": "display_data"
    }
   ],
   "source": [
    "plt.figure(figsize=(12,4), dpi=80)\n",
    "plt.yscale('log')\n",
    "sns.barplot(x=pca_vars, y=X_train[pca_vars].kurtosis(), color='darkorange')\n",
    "plt.xlabel('Column')\n",
    "plt.ylabel('Kurtosis')\n",
    "plt.title('V1-V28 Kurtoses')"
   ]
  },
  {
   "cell_type": "markdown",
   "metadata": {},
   "source": [
    "We've learned that many of the PCA variables are heavy-tailed. The large numbers of outliers in `V1-V28` motivates us to consider robust descriptive statistics. Let's plot the medians:"
   ]
  },
  {
   "cell_type": "code",
   "execution_count": 39,
   "metadata": {},
   "outputs": [
    {
     "data": {
      "text/plain": [
       "Text(0.5,1,'V1-V28 Medians')"
      ]
     },
     "execution_count": 39,
     "metadata": {},
     "output_type": "execute_result"
    },
    {
     "data": {
      "image/png": "[encoded data removed]",
      "text/plain": [
       "<matplotlib.figure.Figure at 0x20fc73e5d30>"
      ]
     },
     "metadata": {},
     "output_type": "display_data"
    }
   ],
   "source": [
    "plt.figure(figsize=(12,4), dpi=80)\n",
    "sns.barplot(x=pca_vars, y=X_train[pca_vars].median(), color='darkblue')\n",
    "plt.xlabel('Column')\n",
    "plt.ylabel('Median')\n",
    "plt.title('V1-V28 Medians')"
   ]
  },
  {
   "cell_type": "markdown",
   "metadata": {},
   "source": [
    "The medians are also roughly zero. Next let's look at the interquartile ranges (IQR)*:\n",
    "\n",
    "*Pandas does not have a built-in IQR method, but we can use the [`quantile`](https://pandas.pydata.org/pandas-docs/stable/generated/pandas.DataFrame.quantile.html) method."
   ]
  },
  {
   "cell_type": "code",
   "execution_count": 40,
   "metadata": {},
   "outputs": [
    {
     "data": {
      "text/plain": [
       "Text(0.5,1,'V1-V28 IQRs')"
      ]
     },
     "execution_count": 40,
     "metadata": {},
     "output_type": "execute_result"
    },
    {
     "data": {
      "image/png": "[encoded data removed]",
      "text/plain": [
       "<matplotlib.figure.Figure at 0x20fc774c898>"
      ]
     },
     "metadata": {},
     "output_type": "display_data"
    }
   ],
   "source": [
    "plt.figure(figsize=(12,4), dpi=80)\n",
    "sns.barplot(x=pca_vars, y=X_train[pca_vars].quantile(0.75) - X_train[pca_vars].quantile(0.25), color='darkred')\n",
    "plt.xlabel('Column')\n",
    "plt.ylabel('IQR')\n",
    "plt.title('V1-V28 IQRs')"
   ]
  },
  {
   "cell_type": "markdown",
   "metadata": {},
   "source": [
    "The IQRs of `V1-V28` are on a similar scale as the standard deviations."
   ]
  },
  {
   "cell_type": "markdown",
   "metadata": {
    "_cell_guid": "96967774-031b-4144-aaa4-ddf3f580047b",
    "_uuid": "5132dac849934c61687d93dd79081e8a4e447189"
   },
   "source": [
    "# Data Standardization\n",
    "<a id='5'></a>"
   ]
  },
  {
   "cell_type": "markdown",
   "metadata": {},
   "source": [
    "To aid the learning algorithms, we standardize the data to zero mean and unit variance.\n",
    "\n",
    "If there was a large discrepancy between the IQRs and standard deviations of the variables, we would consider using [`RobustScaler`](http://scikit-learn.org/stable/modules/generated/sklearn.preprocessing.RobustScaler.html) instead of [`StandardScaler`](http://scikit-learn.org/stable/modules/generated/sklearn.preprocessing.StandardScaler.html)."
   ]
  },
  {
   "cell_type": "code",
   "execution_count": 41,
   "metadata": {
    "_cell_guid": "830df6af-11eb-4519-881e-22473498ec49",
    "_uuid": "dc47913c5df8a92c831e560750d83aabfb3cf20a"
   },
   "outputs": [],
   "source": [
    "from sklearn.preprocessing import StandardScaler"
   ]
  },
  {
   "cell_type": "markdown",
   "metadata": {
    "_cell_guid": "1bda2e4e-4972-4acd-9fcb-a2513ccf8c8b",
    "_uuid": "07f0cf93cbcf9c3ee1d0125b5305804c6f8d668a"
   },
   "source": [
    "Fit the scaler only to the training data to avoid test set leakage."
   ]
  },
  {
   "cell_type": "code",
   "execution_count": 42,
   "metadata": {
    "_cell_guid": "dd0f318e-61d0-4ef5-8d59-990af6e36250",
    "_uuid": "da44f1b2cdfaa47f24aaa8285d0ad8b87758acda"
   },
   "outputs": [],
   "source": [
    "scaler = StandardScaler().fit(X_train)"
   ]
  },
  {
   "cell_type": "markdown",
   "metadata": {
    "_cell_guid": "59da9c8a-d7f6-4f30-8f23-4a46fda51a3a",
    "_uuid": "e3c647063b2fc9415ebc0f61bbd1abab5d77a0c6"
   },
   "source": [
    "Transform the training and test data:"
   ]
  },
  {
   "cell_type": "code",
   "execution_count": 43,
   "metadata": {
    "_cell_guid": "19ccc5cb-5f09-45cc-b9d0-a9a4edf1e024",
    "_uuid": "c4f568237c33f9ac005a00a7c65f392222674128"
   },
   "outputs": [],
   "source": [
    "X_train = pd.DataFrame(scaler.transform(X_train), columns=X_train.columns)\n",
    "X_test  = pd.DataFrame(scaler.transform(X_test),  columns=X_test.columns)"
   ]
  },
  {
   "cell_type": "markdown",
   "metadata": {
    "_cell_guid": "4cb52db6-f54a-4f1f-a056-332413a2bf8f",
    "_uuid": "337f0cff30885c40ff909ff41d39f23637ce2f02"
   },
   "source": [
    "# Machine Learning: Predicting Fraud\n",
    "<a id='6'></a>"
   ]
  },
  {
   "cell_type": "markdown",
   "metadata": {},
   "source": [
    "We now want to try predicting fraudulent transactions using machine learning algorithms. We'll try three types of models:\n",
    "* Linear classification\n",
    "* Random forest\n",
    "* Naive Bayes"
   ]
  },
  {
   "cell_type": "markdown",
   "metadata": {
    "_cell_guid": "ff58210c-bff5-4802-a598-a14ba65ab132",
    "_uuid": "42bee521e8051396dd2c728126e5569ee5707daf"
   },
   "source": [
    "## Linear Classification\n",
    "<a id='6.1'></a>"
   ]
  },
  {
   "cell_type": "markdown",
   "metadata": {
    "_cell_guid": "05340a29-ef89-41e0-9707-e144b09cc556",
    "_uuid": "16b1b1f0be5e5d7b2b921c2b5b1936940d0646c2"
   },
   "source": [
    "The class [`SGDClassifier`](http://scikit-learn.org/stable/modules/generated/sklearn.linear_model.SGDClassifier.html) implements multiple linear classifiers with SGD training, which makes learning much faster on large datasets at the cost of accuracy."
   ]
  },
  {
   "cell_type": "code",
   "execution_count": 45,
   "metadata": {
    "_cell_guid": "13db0842-917a-4559-97fc-348c0a1cd5a7",
    "_uuid": "d24a95d46fb8ff54928a1287fd81bd6d2ed00899"
   },
   "outputs": [],
   "source": [
    "from sklearn.linear_model import SGDClassifier"
   ]
  },
  {
   "cell_type": "markdown",
   "metadata": {
    "_cell_guid": "ec033a4f-9d40-4259-8bd2-e5f8681a61bb",
    "_uuid": "8474054f088729a0a40bb04333ccc2a4aa3d3470"
   },
   "source": [
    "### Train with hyperparameter grid search"
   ]
  },
  {
   "cell_type": "markdown",
   "metadata": {
    "_cell_guid": "85f67845-4095-4094-a076-07cbbf137b29",
    "_uuid": "a49896a87a78f2d9ba76dad2c8ed42e5b36e326c"
   },
   "source": [
    "We'll perform a grid search over various hyperparameters to locate the best linear classifier. The search uses 3-fold cross-validation with stratified folds.\n",
    "\n",
    "The type of linear classifier is chosen with the `loss` hyperparameter. We'll try a linear SVC (`loss = 'hinge'`) and logistic regression (`loss = 'log'`)."
   ]
  },
  {
   "cell_type": "markdown",
   "metadata": {},
   "source": [
    "Set the hyperparameter grids to search over, one grid for the linear SVC and one for logistic regression:"
   ]
  },
  {
   "cell_type": "code",
   "execution_count": 46,
   "metadata": {
    "_cell_guid": "f365e59e-41df-46f0-8f17-5f82a5db63b4",
    "_uuid": "12ec50d10be23449df42ac265d1703f52443bb83"
   },
   "outputs": [],
   "source": [
    "param_grid = [{'loss': ['hinge'],\n",
    "               'alpha': [10**k for k in range(-3,4)],\n",
    "               'class_weight': [None, 'balanced']\n",
    "              },\n",
    "              {'loss': ['log'],\n",
    "               'penalty': ['l1', 'l2'],\n",
    "               'alpha': [10**k for k in range(-3,3)]\n",
    "              }]"
   ]
  },
  {
   "cell_type": "markdown",
   "metadata": {
    "_cell_guid": "6f3ae04e-5a6f-4da6-b695-df37b59f3e98",
    "_uuid": "ccec293d64596dbe036006319a002eb5e6a20556"
   },
   "source": [
    "The grid search, implemented by [`GridSearchCV`](http://scikit-learn.org/stable/modules/generated/sklearn.model_selection.GridSearchCV.html), uses [`StratifiedKFold`](http://scikit-learn.org/stable/modules/generated/sklearn.model_selection.StratifiedKFold.html#sklearn.model_selection.StratifiedKFold) with 3 folds for the train/CV splits. We'll use [`matthews_corrcoef`](http://scikit-learn.org/stable/modules/generated/sklearn.metrics.matthews_corrcoef.html) (the [Matthews correlation coefficient](https://en.wikipedia.org/wiki/Matthews_correlation_coefficient), MCC) as our scoring metric."
   ]
  },
  {
   "cell_type": "code",
   "execution_count": 44,
   "metadata": {
    "_cell_guid": "923a203f-20de-4f82-89d3-e2207a843669",
    "_uuid": "2e87d978dcf446ad11025d41f7b4a2220355b385"
   },
   "outputs": [],
   "source": [
    "from sklearn.model_selection import GridSearchCV\n",
    "from sklearn.metrics import matthews_corrcoef, make_scorer"
   ]
  },
  {
   "cell_type": "code",
   "execution_count": 47,
   "metadata": {
    "_cell_guid": "24614f27-48a8-4093-b47e-88b11fc3099d",
    "_uuid": "84826d16dcff9280efb3d821211c7f7b62d00620"
   },
   "outputs": [],
   "source": [
    "sgdcls_grid = GridSearchCV(estimator=SGDClassifier(max_iter=1000, tol=1e-3, random_state=random_state, warm_start=True), param_grid=param_grid, scoring=make_scorer(matthews_corrcoef), n_jobs=-1, verbose=1)"
   ]
  },
  {
   "cell_type": "markdown",
   "metadata": {
    "_cell_guid": "e24b2f08-2e0d-48ea-80c7-e1e94f202c09",
    "_uuid": "a5207699474eea2ab2e08356215dcd3571a0da3a"
   },
   "source": [
    "Perform the grid search:"
   ]
  },
  {
   "cell_type": "code",
   "execution_count": 48,
   "metadata": {
    "_cell_guid": "e91120ad-d2cf-4387-b6c0-c61917510a7b",
    "_uuid": "d0dbc65a80835afb2ce94217f1c07c8e0a80d3fd"
   },
   "outputs": [
    {
     "name": "stdout",
     "output_type": "stream",
     "text": [
      "Fitting 3 folds for each of 26 candidates, totalling 78 fits\n"
     ]
    },
    {
     "name": "stderr",
     "output_type": "stream",
     "text": [
      "[Parallel(n_jobs=-1)]: Done  42 tasks      | elapsed:   16.1s\n",
      "[Parallel(n_jobs=-1)]: Done  78 out of  78 | elapsed:   29.3s finished\n"
     ]
    },
    {
     "data": {
      "text/plain": [
       "GridSearchCV(cv=None, error_score='raise',\n",
       "       estimator=SGDClassifier(alpha=0.0001, average=False, class_weight=None, epsilon=0.1,\n",
       "       eta0=0.0, fit_intercept=True, l1_ratio=0.15,\n",
       "       learning_rate='optimal', loss='hinge', max_iter=1000, n_iter=None,\n",
       "       n_jobs=1, penalty='l2', power_t=0.5, random_state=1, shuffle=True,\n",
       "       tol=0.001, verbose=0, warm_start=True),\n",
       "       fit_params=None, iid=True, n_jobs=-1,\n",
       "       param_grid=[{'loss': ['hinge'], 'alpha': [0.001, 0.01, 0.1, 1, 10, 100, 1000], 'class_weight': [None, 'balanced']}, {'loss': ['log'], 'penalty': ['l1', 'l2'], 'alpha': [0.001, 0.01, 0.1, 1, 10, 100]}],\n",
       "       pre_dispatch='2*n_jobs', refit=True, return_train_score='warn',\n",
       "       scoring=make_scorer(matthews_corrcoef), verbose=1)"
      ]
     },
     "execution_count": 48,
     "metadata": {},
     "output_type": "execute_result"
    }
   ],
   "source": [
    "sgdcls_grid.fit(X_train, y_train)"
   ]
  },
  {
   "cell_type": "markdown",
   "metadata": {
    "_cell_guid": "349055be-f543-45ec-9d49-5602610440da",
    "_uuid": "7b7d88c3a0abb8d03e2fcc0b4f4a6fefbaeca8f2"
   },
   "source": [
    "Which hyperparameters worked best?"
   ]
  },
  {
   "cell_type": "code",
   "execution_count": 49,
   "metadata": {
    "_cell_guid": "9f12d8ea-bc2c-4fd4-bab1-5aff65c54906",
    "_uuid": "836dc9e7f4cfe909f212f386e38692a070c59c9e"
   },
   "outputs": [
    {
     "data": {
      "text/plain": [
       "{'alpha': 10, 'class_weight': 'balanced', 'loss': 'hinge'}"
      ]
     },
     "execution_count": 49,
     "metadata": {},
     "output_type": "execute_result"
    }
   ],
   "source": [
    "sgdcls_grid.best_params_"
   ]
  },
  {
   "cell_type": "markdown",
   "metadata": {},
   "source": [
    "So the linear SVC performed better than logistic regression, with a high level of regularization ($\\alpha=10$)."
   ]
  },
  {
   "cell_type": "markdown",
   "metadata": {},
   "source": [
    "Mean cross-validated MCC score of the best estimator:"
   ]
  },
  {
   "cell_type": "code",
   "execution_count": 50,
   "metadata": {},
   "outputs": [
    {
     "data": {
      "text/plain": [
       "0.8064212124173448"
      ]
     },
     "execution_count": 50,
     "metadata": {},
     "output_type": "execute_result"
    }
   ],
   "source": [
    "sgdcls_grid.best_score_"
   ]
  },
  {
   "cell_type": "markdown",
   "metadata": {},
   "source": [
    "This is a fairly good MCC. Let's hope it generalizes to the test set."
   ]
  },
  {
   "cell_type": "markdown",
   "metadata": {
    "_cell_guid": "0ccfb680-5f71-45bf-9ad0-eb92fa77f4c6",
    "_uuid": "0b2c4867b3ee9e908bf7613480dee910e05ce11a"
   },
   "source": [
    "### Test set evaluation"
   ]
  },
  {
   "cell_type": "code",
   "execution_count": 51,
   "metadata": {
    "_cell_guid": "275cb55b-b9c8-482f-86b3-6c82caf7c153",
    "_uuid": "2bb7a6794a5f4e98773f2b26cba0ba71a6472aad"
   },
   "outputs": [],
   "source": [
    "from sklearn.metrics import confusion_matrix, classification_report, matthews_corrcoef, cohen_kappa_score, accuracy_score, average_precision_score, roc_auc_score"
   ]
  },
  {
   "cell_type": "code",
   "execution_count": 67,
   "metadata": {
    "_cell_guid": "13f72647-4a31-47a2-9971-871c8df09aa9",
    "_uuid": "4ad4004eafcca2ae59ac198327e952fe93fe889c"
   },
   "outputs": [],
   "source": [
    "def classification_eval(estimator, X_test, y_test):\n",
    "    \"\"\"\n",
    "    Print several metrics of classification performance of an estimator, given features X_test and labels y_test.\n",
    "    \n",
    "    Input: estimator or GridSearchCV instance, X_test, y_test\n",
    "    Returns: text printout of metrics\n",
    "    \"\"\"\n",
    "    y_pred = estimator.predict(X_test)\n",
    "    \n",
    "    # Number of decimal places based on number of samples\n",
    "    dec = np.int64(np.ceil(np.log10(len(y_test))))\n",
    "    \n",
    "    print('Confusion matrix -----------------------'+3*(dec-1)*'-')\n",
    "    print(confusion_matrix(y_test, y_pred), '\\n')\n",
    "    \n",
    "    print('Classification report ------------------'+3*(dec-1)*'-')\n",
    "    print(classification_report(y_test, y_pred, digits=dec))\n",
    "    \n",
    "    print('Scalar metrics -------------------------'+3*(dec-1)*'-')\n",
    "    format_str = '%%13s = %%.%if' % dec\n",
    "    print(format_str % ('MCC', matthews_corrcoef(y_test, y_pred)))\n",
    "    if y_test.nunique() <= 2: # Additional metrics for binary classification\n",
    "        try:\n",
    "            y_score = estimator.predict_proba(X_test)[:,1]\n",
    "        except:\n",
    "            y_score = estimator.decision_function(X_test)\n",
    "        print(format_str % ('AUPRC', average_precision_score(y_test, y_score)))\n",
    "        print(format_str % ('AUROCC', roc_auc_score(y_test, y_score)))\n",
    "    print(format_str % (\"Cohen's kappa\", cohen_kappa_score(y_test, y_pred)))\n",
    "    print(format_str % ('Accuracy', accuracy_score(y_test, y_pred)))"
   ]
  },
  {
   "cell_type": "markdown",
   "metadata": {},
   "source": [
    "Display evaluation metrics:"
   ]
  },
  {
   "cell_type": "code",
   "execution_count": 68,
   "metadata": {
    "_cell_guid": "fed87b52-b81b-43f6-ac1f-4a7a9d78d58d",
    "_uuid": "fe8fd85ae8b465b00ba967cba1eb082a0046dbce"
   },
   "outputs": [
    {
     "name": "stdout",
     "output_type": "stream",
     "text": [
      "Confusion matrix -----------------------------------\n",
      "[[56839    25]\n",
      " [   12    86]] \n",
      "\n",
      "Classification report ------------------------------\n",
      "             precision    recall  f1-score   support\n",
      "\n",
      "          0    0.99979   0.99956   0.99967     56864\n",
      "          1    0.77477   0.87755   0.82297        98\n",
      "\n",
      "avg / total    0.99940   0.99935   0.99937     56962\n",
      "\n",
      "Scalar metrics -------------------------------------\n",
      "          MCC = 0.82424\n",
      "        AUPRC = 0.81596\n",
      "       AUROCC = 0.98792\n",
      "Cohen's kappa = 0.82264\n",
      "     Accuracy = 0.99935\n"
     ]
    }
   ],
   "source": [
    "classification_eval(sgdcls_grid, X_test, y_test)"
   ]
  },
  {
   "cell_type": "markdown",
   "metadata": {},
   "source": [
    "According to the MCC, the model actually performed slightly better on the test set than on the training set."
   ]
  },
  {
   "cell_type": "markdown",
   "metadata": {
    "_cell_guid": "e9d7a963-410a-431e-b8ab-54597f4c7525",
    "_uuid": "ec7558d55c8a6abc525f49cd553f572bd8c37557"
   },
   "source": [
    "## Random Forest\n",
    "<a id='6.2'></a>"
   ]
  },
  {
   "cell_type": "markdown",
   "metadata": {},
   "source": [
    "Next we'll try a random forest model, implemented in [`RandomForestClassifier`](http://scikit-learn.org/stable/modules/generated/sklearn.ensemble.RandomForestClassifier.html)."
   ]
  },
  {
   "cell_type": "code",
   "execution_count": 54,
   "metadata": {
    "_cell_guid": "7fee44fa-ad54-429a-ab97-b8a41184030e",
    "_uuid": "493cc36f8bdd5eb5b4c898bf01ec1f1c93688a91"
   },
   "outputs": [],
   "source": [
    "from sklearn.ensemble import RandomForestClassifier"
   ]
  },
  {
   "cell_type": "markdown",
   "metadata": {
    "_cell_guid": "ec033a4f-9d40-4259-8bd2-e5f8681a61bb",
    "_uuid": "8474054f088729a0a40bb04333ccc2a4aa3d3470"
   },
   "source": [
    "### Train with hyperparameter grid search"
   ]
  },
  {
   "cell_type": "markdown",
   "metadata": {
    "_cell_guid": "2dca52bf-7286-4afc-af09-5c5d6c3bda07",
    "_uuid": "33126a40a3f4d1d4d6a8cff170a9f636cf273efa"
   },
   "source": [
    "The random forest takes much longer to train on this fairly large dataset, so we'll only try different values of `n_estimators`, the number of decision trees constructed. Otherwise we'll use default values, and build trees in parallel (`n_jobs = -1`)."
   ]
  },
  {
   "cell_type": "code",
   "execution_count": 55,
   "metadata": {
    "_cell_guid": "f365e59e-41df-46f0-8f17-5f82a5db63b4",
    "_uuid": "12ec50d10be23449df42ac265d1703f52443bb83"
   },
   "outputs": [],
   "source": [
    "param_grid = {'n_estimators': [10, 40, 70, 100]}"
   ]
  },
  {
   "cell_type": "code",
   "execution_count": 56,
   "metadata": {
    "_cell_guid": "24614f27-48a8-4093-b47e-88b11fc3099d",
    "_uuid": "84826d16dcff9280efb3d821211c7f7b62d00620"
   },
   "outputs": [],
   "source": [
    "rf_grid = GridSearchCV(estimator=RandomForestClassifier(n_jobs=-1, random_state=random_state), param_grid=param_grid, scoring=make_scorer(matthews_corrcoef), n_jobs=-1, verbose=1)"
   ]
  },
  {
   "cell_type": "markdown",
   "metadata": {
    "_cell_guid": "e24b2f08-2e0d-48ea-80c7-e1e94f202c09",
    "_uuid": "a5207699474eea2ab2e08356215dcd3571a0da3a"
   },
   "source": [
    "Perform the grid search:"
   ]
  },
  {
   "cell_type": "code",
   "execution_count": 57,
   "metadata": {
    "_cell_guid": "e91120ad-d2cf-4387-b6c0-c61917510a7b",
    "_uuid": "d0dbc65a80835afb2ce94217f1c07c8e0a80d3fd"
   },
   "outputs": [
    {
     "name": "stdout",
     "output_type": "stream",
     "text": [
      "Fitting 3 folds for each of 4 candidates, totalling 12 fits\n"
     ]
    },
    {
     "name": "stderr",
     "output_type": "stream",
     "text": [
      "[Parallel(n_jobs=-1)]: Done  12 out of  12 | elapsed:  5.8min finished\n"
     ]
    },
    {
     "data": {
      "text/plain": [
       "GridSearchCV(cv=None, error_score='raise',\n",
       "       estimator=RandomForestClassifier(bootstrap=True, class_weight=None, criterion='gini',\n",
       "            max_depth=None, max_features='auto', max_leaf_nodes=None,\n",
       "            min_impurity_decrease=0.0, min_impurity_split=None,\n",
       "            min_samples_leaf=1, min_samples_split=2,\n",
       "            min_weight_fraction_leaf=0.0, n_estimators=10, n_jobs=-1,\n",
       "            oob_score=False, random_state=1, verbose=0, warm_start=False),\n",
       "       fit_params=None, iid=True, n_jobs=-1,\n",
       "       param_grid={'n_estimators': [10, 40, 70, 100]},\n",
       "       pre_dispatch='2*n_jobs', refit=True, return_train_score='warn',\n",
       "       scoring=make_scorer(matthews_corrcoef), verbose=1)"
      ]
     },
     "execution_count": 57,
     "metadata": {},
     "output_type": "execute_result"
    }
   ],
   "source": [
    "rf_grid.fit(X_train, y_train)"
   ]
  },
  {
   "cell_type": "markdown",
   "metadata": {
    "_cell_guid": "349055be-f543-45ec-9d49-5602610440da",
    "_uuid": "7b7d88c3a0abb8d03e2fcc0b4f4a6fefbaeca8f2"
   },
   "source": [
    "What number of estimators worked best?"
   ]
  },
  {
   "cell_type": "code",
   "execution_count": 58,
   "metadata": {
    "_cell_guid": "9f12d8ea-bc2c-4fd4-bab1-5aff65c54906",
    "_uuid": "836dc9e7f4cfe909f212f386e38692a070c59c9e"
   },
   "outputs": [
    {
     "data": {
      "text/plain": [
       "{'n_estimators': 70}"
      ]
     },
     "execution_count": 58,
     "metadata": {},
     "output_type": "execute_result"
    }
   ],
   "source": [
    "rf_grid.best_params_"
   ]
  },
  {
   "cell_type": "markdown",
   "metadata": {},
   "source": [
    "Mean cross-validated MCC score of the best estimator:"
   ]
  },
  {
   "cell_type": "code",
   "execution_count": 59,
   "metadata": {},
   "outputs": [
    {
     "data": {
      "text/plain": [
       "0.8511059463756152"
      ]
     },
     "execution_count": 59,
     "metadata": {},
     "output_type": "execute_result"
    }
   ],
   "source": [
    "rf_grid.best_score_"
   ]
  },
  {
   "cell_type": "markdown",
   "metadata": {
    "_cell_guid": "0ccfb680-5f71-45bf-9ad0-eb92fa77f4c6",
    "_uuid": "0b2c4867b3ee9e908bf7613480dee910e05ce11a"
   },
   "source": [
    "### Test set evaluation"
   ]
  },
  {
   "cell_type": "markdown",
   "metadata": {},
   "source": [
    "Calculate evaluation metrics:"
   ]
  },
  {
   "cell_type": "code",
   "execution_count": 69,
   "metadata": {
    "_cell_guid": "fed87b52-b81b-43f6-ac1f-4a7a9d78d58d",
    "_uuid": "fe8fd85ae8b465b00ba967cba1eb082a0046dbce"
   },
   "outputs": [
    {
     "name": "stdout",
     "output_type": "stream",
     "text": [
      "Confusion matrix -----------------------------------\n",
      "[[56860     4]\n",
      " [   16    82]] \n",
      "\n",
      "Classification report ------------------------------\n",
      "             precision    recall  f1-score   support\n",
      "\n",
      "          0    0.99972   0.99993   0.99982     56864\n",
      "          1    0.95349   0.83673   0.89130        98\n",
      "\n",
      "avg / total    0.99964   0.99965   0.99964     56962\n",
      "\n",
      "Scalar metrics -------------------------------------\n",
      "          MCC = 0.89304\n",
      "        AUPRC = 0.89315\n",
      "       AUROCC = 0.96853\n",
      "Cohen's kappa = 0.89113\n",
      "     Accuracy = 0.99965\n"
     ]
    }
   ],
   "source": [
    "classification_eval(rf_grid, X_test, y_test)"
   ]
  },
  {
   "cell_type": "markdown",
   "metadata": {
    "_cell_guid": "85996088-ee0e-42bf-8781-2fb15ff8a948",
    "_uuid": "9c94c75d74170afae1800ce1e372e9ac1cf3e9dd"
   },
   "source": [
    "According to the MCC, the random forest performed better than the linear SVC. However, the results may vary significantly for different train/test splits."
   ]
  },
  {
   "cell_type": "markdown",
   "metadata": {},
   "source": [
    "### Feature Importances"
   ]
  },
  {
   "cell_type": "markdown",
   "metadata": {},
   "source": [
    "We can examine the random forest's calculated feature importances: the higher, the more important the feature for predicting fraud. The feature importances always add up to 1."
   ]
  },
  {
   "cell_type": "code",
   "execution_count": 61,
   "metadata": {},
   "outputs": [
    {
     "data": {
      "text/plain": [
       "Text(0.5,1,'Random Forest Feature Importances')"
      ]
     },
     "execution_count": 61,
     "metadata": {},
     "output_type": "execute_result"
    },
    {
     "data": {
      "image/png": "[encoded data removed]",
      "text/plain": [
       "<matplotlib.figure.Figure at 0x20fc342d0f0>"
      ]
     },
     "metadata": {},
     "output_type": "display_data"
    }
   ],
   "source": [
    "plt.figure(figsize=(14,4), dpi=80)\n",
    "sns.barplot(x=X_train.columns, y=rf_grid.best_estimator_.feature_importances_, color='darkblue')\n",
    "plt.xlabel('Feature')\n",
    "plt.ylabel('RF Importance')\n",
    "plt.title('Random Forest Feature Importances')"
   ]
  },
  {
   "cell_type": "markdown",
   "metadata": {},
   "source": [
    "It appears that six features---`V10`, `V11`, `V12`, `V14`, `V16`, `V17`---are most important in detecting fraud. Unfortunately, because these variables came out of PCA, we cannot interpret their meaning. Moreover, descriptions of the original features (before PCA) are not available."
   ]
  },
  {
   "cell_type": "markdown",
   "metadata": {
    "_cell_guid": "e9d7a963-410a-431e-b8ab-54597f4c7525",
    "_uuid": "ec7558d55c8a6abc525f49cd553f572bd8c37557"
   },
   "source": [
    "## Naive Bayes\n",
    "<a id='6.3'></a>"
   ]
  },
  {
   "cell_type": "markdown",
   "metadata": {},
   "source": [
    "Next we try Gaussian Naive Bayes, implemented in [`GaussianNB`](http://scikit-learn.org/stable/modules/generated/sklearn.naive_bayes.GaussianNB.html)."
   ]
  },
  {
   "cell_type": "code",
   "execution_count": 62,
   "metadata": {
    "_cell_guid": "7fee44fa-ad54-429a-ab97-b8a41184030e",
    "_uuid": "493cc36f8bdd5eb5b4c898bf01ec1f1c93688a91"
   },
   "outputs": [],
   "source": [
    "from sklearn.naive_bayes import GaussianNB"
   ]
  },
  {
   "cell_type": "markdown",
   "metadata": {
    "_cell_guid": "3028e0cc-ba8b-48c9-8287-cd776c0019fc",
    "_uuid": "205ce441d217d88c123e69b23f8e2e84e5f2f9d1"
   },
   "source": [
    "### Train"
   ]
  },
  {
   "cell_type": "markdown",
   "metadata": {},
   "source": [
    "Gaussian Naive Bayes has no hyperparameters, so we simply train on the training set and hope for the best."
   ]
  },
  {
   "cell_type": "code",
   "execution_count": 63,
   "metadata": {},
   "outputs": [],
   "source": [
    "gnb = GaussianNB()"
   ]
  },
  {
   "cell_type": "code",
   "execution_count": 64,
   "metadata": {},
   "outputs": [
    {
     "data": {
      "text/plain": [
       "GaussianNB(priors=None)"
      ]
     },
     "execution_count": 64,
     "metadata": {},
     "output_type": "execute_result"
    }
   ],
   "source": [
    "gnb.fit(X_train, y_train)"
   ]
  },
  {
   "cell_type": "markdown",
   "metadata": {},
   "source": [
    "Calculate the MCC on the training set:"
   ]
  },
  {
   "cell_type": "code",
   "execution_count": 65,
   "metadata": {},
   "outputs": [
    {
     "data": {
      "text/plain": [
       "0.2174567292057762"
      ]
     },
     "execution_count": 65,
     "metadata": {},
     "output_type": "execute_result"
    }
   ],
   "source": [
    "matthews_corrcoef(y_train, gnb.predict(X_train))"
   ]
  },
  {
   "cell_type": "markdown",
   "metadata": {},
   "source": [
    "Really poor performance."
   ]
  },
  {
   "cell_type": "markdown",
   "metadata": {
    "_cell_guid": "0ccfb680-5f71-45bf-9ad0-eb92fa77f4c6",
    "_uuid": "0b2c4867b3ee9e908bf7613480dee910e05ce11a"
   },
   "source": [
    "### Test set evaluation"
   ]
  },
  {
   "cell_type": "code",
   "execution_count": 66,
   "metadata": {
    "_cell_guid": "fed87b52-b81b-43f6-ac1f-4a7a9d78d58d",
    "_uuid": "fe8fd85ae8b465b00ba967cba1eb082a0046dbce"
   },
   "outputs": [
    {
     "name": "stdout",
     "output_type": "stream",
     "text": [
      "Confusion matrix -----------------------------------\n",
      "[[55594  1270]\n",
      " [   11    87]] \n",
      "\n",
      "Classification report ------------------------------\n",
      "             precision    recall  f1-score   support\n",
      "\n",
      "          0    0.99980   0.97767   0.98861     56864\n",
      "          1    0.06411   0.88776   0.11959        98\n",
      "\n",
      "avg / total    0.99819   0.97751   0.98712     56962\n",
      "\n",
      "Scalar metrics -------------------------------------\n",
      "          MCC = 0.23519\n",
      "        AUPRC = 0.09352\n",
      "       AUROCC = 0.97069\n",
      "Cohen's kappa = 0.11675\n",
      "     Accuracy = 0.97751\n"
     ]
    }
   ],
   "source": [
    "classification_eval(gnb, X_test, y_test)"
   ]
  },
  {
   "cell_type": "markdown",
   "metadata": {
    "_cell_guid": "85996088-ee0e-42bf-8781-2fb15ff8a948",
    "_uuid": "9c94c75d74170afae1800ce1e372e9ac1cf3e9dd"
   },
   "source": [
    "We see very poor performance on the test set due to a large number of false positives. What might explain the poor performance of Naive Bayes for this problem?\n",
    "\n",
    "Also note the very high AUROCC (Area Under the Receiver Operating Characteristic Curve). We should not use AUROCC to evaluate performance!"
   ]
  },
  {
   "cell_type": "markdown",
   "metadata": {},
   "source": [
    "# Conclusion\n",
    "<a id='7'></a>"
   ]
  },
  {
   "cell_type": "markdown",
   "metadata": {},
   "source": [
    "We were able to accurately predict fraudulent credit card transactions using a random forest model. We found that six features---`V10`, `V11`, `V12`, `V14`, `V16`, `V17`---are most useful for detecting fraud. Only a few preprocessing steps were necessary before constructing predictive models:\n",
    "* Split the data using a random, stratified train/test split with a test size of 20%\n",
    "* Power transform (Box-Cox) of the transaction amounts to increase normality\n",
    "* Mean and variance normalization of all features\n",
    "\n",
    "We used the Matthews correlation coefficient (MCC) to compare the performance of different models on test and validation sets. The random forest achieved MCC = 0.89 on the test set. We also trained linear classifiers (linear SVC and logistic regression) with stochastic gradient descent training, as well as a Gaussian Naive Bayes model, but these models were not as successful as a random forest. On the test set, the linear SVC achieved MCC = 0.82, and Naive Bayes achieved MCC = 0.23 because of many false positives. Logistic regression underperformed the linear SVC.\n",
    "\n",
    "To improve a chosen model, we searched over a grid of hyperparameters and compared performance with cross-validation. It may be possible to further improve the random forest model by tweaking additional hyperparameters, given sufficient time and/or computational power."
   ]
  }
 ],
 "metadata": {
  "kernelspec": {
   "display_name": "Python 3",
   "language": "python",
   "name": "python3"
  },
  "language_info": {
   "codemirror_mode": {
    "name": "ipython",
    "version": 3
   },
   "file_extension": ".py",
   "mimetype": "text/x-python",
   "name": "python",
   "nbconvert_exporter": "python",
   "pygments_lexer": "ipython3",
   "version": "3.6.4"
  }
 },
 "nbformat": 4,
 "nbformat_minor": 1
}
